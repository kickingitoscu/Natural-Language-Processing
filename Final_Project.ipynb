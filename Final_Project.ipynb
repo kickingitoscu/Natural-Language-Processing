{
  "nbformat": 4,
  "nbformat_minor": 0,
  "metadata": {
    "accelerator": "GPU",
    "colab": {
      "name": "Final_Project.ipynb",
      "provenance": [],
      "collapsed_sections": [],
      "machine_shape": "hm"
    },
    "kernelspec": {
      "display_name": "Python 3",
      "name": "python3"
    }
  },
  "cells": [
    {
      "cell_type": "markdown",
      "metadata": {
        "id": "-M8Mp5qsMaBj"
      },
      "source": [
        "# Project Title\n",
        "\n",
        "by Mariana Duarte, Ibrahim Jabarkhel, Edward Montoya"
      ]
    },
    {
      "cell_type": "markdown",
      "metadata": {
        "id": "B5X5Ii9ANUhC"
      },
      "source": [
        "The goal of this project is to build a model that can successfully translate a foreign language into English. This project will demonstrate how an Attention model is superior to other types of models for Natural Language Processing (NLP). The most modest goal is training Attention and comparing it with other models:  LSTM, RNN, GRU. A goal that we hope to achieve is the implementation of an Attention model that can achieve a Bilingual Evaluation Understudy (BLEU) score of 60%. We are interested in this project because we will be using Attention which has become very popular in the last couple of years. We would like to gain experience and knowledge about this important Machine learning technique. In addition, we would like to explore why Attention performs better than other models.\n"
      ]
    },
    {
      "cell_type": "markdown",
      "metadata": {
        "id": "qn55zOIdNZfR"
      },
      "source": [
        "## Load Data Set"
      ]
    },
    {
      "cell_type": "code",
      "metadata": {
        "id": "KRCDN_IDOOjL"
      },
      "source": [
        "import tensorflow as tf\n",
        "import matplotlib.pyplot as plt\n",
        "from collections import Counter\n",
        "import matplotlib.ticker as ticker\n",
        "from keras.preprocessing.text import Tokenizer\n",
        "from keras.preprocessing.sequence import pad_sequences\n",
        "from keras.utils import to_categorical\n",
        "from keras.models import Sequential\n",
        "from keras import regularizers\n",
        "from keras.layers import Dense, Embedding, LSTM, Dropout, BatchNormalization, RepeatVector, TimeDistributed, GRU, SimpleRNN, Layer\n",
        "from keras.layers.wrappers import Bidirectional\n",
        "from keras.optimizers import Adam\n",
        "from keras.callbacks import ModelCheckpoint, EarlyStopping\n",
        "from keras.models import load_model\n",
        "from sklearn.model_selection import train_test_split\n",
        "from unicodedata import normalize\n",
        "from random import shuffle\n",
        "from collections import Counter\n",
        "import random  \n",
        "import unicodedata\n",
        "import re\n",
        "import string\n",
        "import numpy as np\n",
        "import os\n",
        "import io\n",
        "import time"
      ],
      "execution_count": null,
      "outputs": []
    },
    {
      "cell_type": "code",
      "metadata": {
        "id": "qSXep0GcMWLH",
        "colab": {
          "base_uri": "https://localhost:8080/"
        },
        "outputId": "63d56bc6-62b8-4807-93e5-6a551bbd0077"
      },
      "source": [
        "# Downloading the file\n",
        "path_to_zip = tf.keras.utils.get_file(\n",
        "    'spa-eng.zip', origin='http://storage.googleapis.com/download.tensorflow.org/data/spa-eng.zip',\n",
        "    extract=True)\n",
        "\n",
        "file_path = os.path.dirname(path_to_zip)+\"/spa-eng/spa.txt\""
      ],
      "execution_count": null,
      "outputs": [
        {
          "output_type": "stream",
          "text": [
            "Downloading data from http://storage.googleapis.com/download.tensorflow.org/data/spa-eng.zip\n",
            "2646016/2638744 [==============================] - 0s 0us/step\n"
          ],
          "name": "stdout"
        }
      ]
    },
    {
      "cell_type": "markdown",
      "metadata": {
        "id": "WO4g6ROvNdkp"
      },
      "source": [
        "## Prepare Data"
      ]
    },
    {
      "cell_type": "code",
      "metadata": {
        "id": "haHs0Qny3R3w"
      },
      "source": [
        "with open(file_path) as f:\n",
        "    text = f.read()"
      ],
      "execution_count": null,
      "outputs": []
    },
    {
      "cell_type": "markdown",
      "metadata": {
        "id": "cO5b1wtNQvLg"
      },
      "source": [
        "Data with punctuations "
      ]
    },
    {
      "cell_type": "code",
      "metadata": {
        "colab": {
          "base_uri": "https://localhost:8080/"
        },
        "id": "RvfgZNSI3UVq",
        "outputId": "1fa3613a-bfdc-4211-e282-e80cc079c8e8"
      },
      "source": [
        "lines = text.strip().split('\\n')\n",
        "text_split = [line.split('\\t') for line in lines]\n",
        "text_split[:10]"
      ],
      "execution_count": null,
      "outputs": [
        {
          "output_type": "execute_result",
          "data": {
            "text/plain": [
              "[['Go.', 'Ve.'],\n",
              " ['Go.', 'Vete.'],\n",
              " ['Go.', 'Vaya.'],\n",
              " ['Go.', 'Váyase.'],\n",
              " ['Hi.', 'Hola.'],\n",
              " ['Run!', '¡Corre!'],\n",
              " ['Run.', 'Corred.'],\n",
              " ['Who?', '¿Quién?'],\n",
              " ['Fire!', '¡Fuego!'],\n",
              " ['Fire!', '¡Incendio!']]"
            ]
          },
          "metadata": {
            "tags": []
          },
          "execution_count": 4
        }
      ]
    },
    {
      "cell_type": "markdown",
      "metadata": {
        "id": "ftXBYR8eQ4MT"
      },
      "source": [
        "Printing the data from 100000 to 100005 with punctuations. "
      ]
    },
    {
      "cell_type": "code",
      "metadata": {
        "colab": {
          "base_uri": "https://localhost:8080/"
        },
        "id": "nM2r-aLq3w3M",
        "outputId": "6a2cd21a-3dbb-444b-f02c-817ff7faa5a3"
      },
      "source": [
        "text_split[100000:100005]"
      ],
      "execution_count": null,
      "outputs": [
        {
          "output_type": "execute_result",
          "data": {
            "text/plain": [
              "[['Tom wants to sell everything in his garage.',\n",
              "  'Tom quiere vender todo lo que hay en su cochera.'],\n",
              " ['Tom was alone when Mary and John walked in.',\n",
              "  'Tom estaba solo cuando Mary y John entraron.'],\n",
              " [\"Tom was disappointed in Mary's performance.\",\n",
              "  'Tom estaba decepcionado con el rendimiento de Mary.'],\n",
              " ['Tom was lying on the pier getting a suntan.',\n",
              "  'Tom estaba recostado en el muelle bronceándose.'],\n",
              " [\"Tom was married, but he didn't wear a ring.\",\n",
              "  'Tom era casado, pero no usaba anillo.']]"
            ]
          },
          "metadata": {
            "tags": []
          },
          "execution_count": 5
        }
      ]
    },
    {
      "cell_type": "markdown",
      "metadata": {
        "id": "Hw3Zs4chFuA0"
      },
      "source": [
        "We cleaned up the data by doing the following:\r\n",
        "\r\n",
        "*   Normalized to unicode characters\r\n",
        "*   Tokenized on white space (split)\r\n",
        "*   Converted all words to lowercase\r\n",
        "*   Removed punctuation\r\n",
        "*   Removed non-printable characters\r\n",
        "*   Removed tokens with numbers in them"
      ]
    },
    {
      "cell_type": "code",
      "metadata": {
        "id": "2aGK-pIJ4K4A"
      },
      "source": [
        "def clean_text(lines):\n",
        "  text_cleaned = []\n",
        "  re_print = re.compile('[^%s]' % re.escape(string.printable))\n",
        "  table = str.maketrans('', '', string.punctuation)\n",
        "\n",
        "  for pair in lines:\n",
        "    clean_pair = list()\n",
        "    for line in pair:\n",
        "      line = normalize('NFD', line).encode('ascii', 'ignore')\n",
        "      line = line.decode('UTF-8')\n",
        "      line = line.split()\n",
        "      line = [word.lower() for word in line]\n",
        "      line = [word.translate(table) for word in line]\n",
        "      line = [re_print.sub('', w) for w in line]\n",
        "      line = [word for word in line if word.isalpha()]\n",
        "      clean_pair.append(' '.join(line))\n",
        "    text_cleaned.append(clean_pair)\n",
        "    \n",
        "  return np.array(text_cleaned)"
      ],
      "execution_count": null,
      "outputs": []
    },
    {
      "cell_type": "markdown",
      "metadata": {
        "id": "wf28q8axgRFS"
      },
      "source": [
        "Visualizing the text after cleaning."
      ]
    },
    {
      "cell_type": "code",
      "metadata": {
        "colab": {
          "base_uri": "https://localhost:8080/"
        },
        "id": "nEke2jx44QBG",
        "outputId": "8c318f87-0e0e-49ab-e824-b2e1ba45c539"
      },
      "source": [
        "text_cleaned = clean_text(text_split)\n",
        "text_cleaned[:10]"
      ],
      "execution_count": null,
      "outputs": [
        {
          "output_type": "execute_result",
          "data": {
            "text/plain": [
              "array([['go', 've'],\n",
              "       ['go', 'vete'],\n",
              "       ['go', 'vaya'],\n",
              "       ['go', 'vayase'],\n",
              "       ['hi', 'hola'],\n",
              "       ['run', 'corre'],\n",
              "       ['run', 'corred'],\n",
              "       ['who', 'quien'],\n",
              "       ['fire', 'fuego'],\n",
              "       ['fire', 'incendio']], dtype='<U275')"
            ]
          },
          "metadata": {
            "tags": []
          },
          "execution_count": 7
        }
      ]
    },
    {
      "cell_type": "code",
      "metadata": {
        "colab": {
          "base_uri": "https://localhost:8080/"
        },
        "id": "MCGJWWxS4Z__",
        "outputId": "acaf08fb-a9b2-4182-d3ab-5f02f1bf8afe"
      },
      "source": [
        "text_cleaned[100000:100005]"
      ],
      "execution_count": null,
      "outputs": [
        {
          "output_type": "execute_result",
          "data": {
            "text/plain": [
              "array([['tom wants to sell everything in his garage',\n",
              "        'tom quiere vender todo lo que hay en su cochera'],\n",
              "       ['tom was alone when mary and john walked in',\n",
              "        'tom estaba solo cuando mary y john entraron'],\n",
              "       ['tom was disappointed in marys performance',\n",
              "        'tom estaba decepcionado con el rendimiento de mary'],\n",
              "       ['tom was lying on the pier getting a suntan',\n",
              "        'tom estaba recostado en el muelle bronceandose'],\n",
              "       ['tom was married but he didnt wear a ring',\n",
              "        'tom era casado pero no usaba anillo']], dtype='<U275')"
            ]
          },
          "metadata": {
            "tags": []
          },
          "execution_count": 8
        }
      ]
    },
    {
      "cell_type": "markdown",
      "metadata": {
        "id": "GEjT11tVgc4V"
      },
      "source": [
        "The total amount of sentences in the dataset is 118,964 sentences."
      ]
    },
    {
      "cell_type": "code",
      "metadata": {
        "colab": {
          "base_uri": "https://localhost:8080/"
        },
        "id": "dE0BxD8D4lEP",
        "outputId": "70089a29-d80b-4d06-86b2-53cc6e49c95d"
      },
      "source": [
        "text_cleaned.shape"
      ],
      "execution_count": null,
      "outputs": [
        {
          "output_type": "execute_result",
          "data": {
            "text/plain": [
              "(118964, 2)"
            ]
          },
          "metadata": {
            "tags": []
          },
          "execution_count": 9
        }
      ]
    },
    {
      "cell_type": "markdown",
      "metadata": {
        "id": "3GjJv34oR737"
      },
      "source": [
        "## Split the Data"
      ]
    },
    {
      "cell_type": "markdown",
      "metadata": {
        "id": "Dh0SbH4JX99h"
      },
      "source": [
        "We decided to use an offset of 40,000. We did this because the first 40,000 sentences are very short in length. After 40,000 the sentences exceed 5 words in length. We felt the use of longer sentences would benefit the use of an Attention model. Being that Attention performs well with longer sentences. \n",
        "\n",
        "Making this change required us to use less sentences. Originally, we could use 70,000 sentences, but because the sentences had increased in word size we were limited computationally to just using 50,000 sentences. The total amount of words for both approaches worked out to be about the same at around 300,000 English words, and 300,000 Spanish words total. "
      ]
    },
    {
      "cell_type": "code",
      "metadata": {
        "id": "skNDd6CR4u_6"
      },
      "source": [
        "n_sentences = 50000 + 40000\n",
        "dataset = text_cleaned[40000:n_sentences, :]"
      ],
      "execution_count": null,
      "outputs": []
    },
    {
      "cell_type": "markdown",
      "metadata": {
        "id": "b5xCGDl6iYMm"
      },
      "source": [
        "For the purposes of training we decided to do a train, test split of 80%. "
      ]
    },
    {
      "cell_type": "code",
      "metadata": {
        "id": "qPWIe_2s41io"
      },
      "source": [
        "# shuffle data set\n",
        "shuffle(dataset)\n",
        "\n",
        "# 80% of n_sentences\n",
        "train, test = dataset[:40000], dataset[40000:]"
      ],
      "execution_count": null,
      "outputs": []
    },
    {
      "cell_type": "markdown",
      "metadata": {
        "id": "HKns6Zc3eT_g"
      },
      "source": [
        "Preprocess data\n"
      ]
    },
    {
      "cell_type": "code",
      "metadata": {
        "id": "DD1vfxA85Byc"
      },
      "source": [
        "def create_tokenizer(lines):\n",
        "  tokenizer = Tokenizer()\n",
        "  tokenizer.fit_on_texts(lines)\n",
        "  return tokenizer"
      ],
      "execution_count": null,
      "outputs": []
    },
    {
      "cell_type": "markdown",
      "metadata": {
        "id": "5laDee7PeYhY"
      },
      "source": [
        "Calculating the maximum number of tokens in sentence\n"
      ]
    },
    {
      "cell_type": "code",
      "metadata": {
        "id": "hn-9wwha5FCG"
      },
      "source": [
        "def max_length(lines):\n",
        "  return max(len(line.split()) for line in lines)"
      ],
      "execution_count": null,
      "outputs": []
    },
    {
      "cell_type": "markdown",
      "metadata": {
        "id": "S-JGPcDU5ixT"
      },
      "source": [
        "Create tokenizer for English language.\r\n",
        "\r\n",
        "Print the English vocabulary size, and word max length."
      ]
    },
    {
      "cell_type": "code",
      "metadata": {
        "colab": {
          "base_uri": "https://localhost:8080/"
        },
        "id": "Zwo1jygK5Hym",
        "outputId": "87bfa26a-23a5-4b6a-b033-9f4c1f3ab1e5"
      },
      "source": [
        "# -------- English tokenizer ------------------\n",
        "# Index 0 correlates to english\n",
        "# Index 1 correlates to spanish\n",
        "eng_tokenizer = create_tokenizer(dataset[:, 0])\n",
        "eng_vocab = len(eng_tokenizer.word_index) + 1\n",
        "eng_len = max_length(dataset[:, 0])\n",
        "\n",
        "print('English Vocabulary Size: %d' % eng_vocab)\n",
        "print('English Max Length: %d' % (eng_len))"
      ],
      "execution_count": null,
      "outputs": [
        {
          "output_type": "stream",
          "text": [
            "English Vocabulary Size: 6461\n",
            "English Max Length: 10\n"
          ],
          "name": "stdout"
        }
      ]
    },
    {
      "cell_type": "markdown",
      "metadata": {
        "id": "BB4vaCT_egN5"
      },
      "source": [
        "Print the number of English words used for training, and testing. The amount of words is from 50,000 sentences."
      ]
    },
    {
      "cell_type": "code",
      "metadata": {
        "colab": {
          "base_uri": "https://localhost:8080/"
        },
        "id": "-9ALYfa4SSuX",
        "outputId": "fd85674f-74a3-4614-f26c-6fba07206ea2"
      },
      "source": [
        "print('{} English words.'.format(len([word for sentence in dataset[:, 0] for word in sentence.split()])))"
      ],
      "execution_count": null,
      "outputs": [
        {
          "output_type": "stream",
          "text": [
            "282334 English words.\n"
          ],
          "name": "stdout"
        }
      ]
    },
    {
      "cell_type": "markdown",
      "metadata": {
        "id": "uOey3qSVRq0K"
      },
      "source": [
        "Histogram of the top 10 words in the English dataset."
      ]
    },
    {
      "cell_type": "code",
      "metadata": {
        "colab": {
          "base_uri": "https://localhost:8080/",
          "height": 281
        },
        "id": "KsAg4b-r9bfa",
        "outputId": "9711bc42-defd-4cef-ffb9-aa9af789805c"
      },
      "source": [
        "# For Histogram\n",
        "eng_words = eng_tokenizer.word_counts\n",
        "counts = Counter(eng_words)\n",
        "k = counts.most_common(10)\n",
        "\n",
        "plt.bar([k[i][0] for i in range(10)], [k[i][1] for i in range(10)], color='g')\n",
        "plt.title('The top 10 words')\n",
        "plt.show()"
      ],
      "execution_count": null,
      "outputs": [
        {
          "output_type": "display_data",
          "data": {
            "image/png": "[encoded data removed]",
            "text/plain": [
              "<Figure size 432x288 with 1 Axes>"
            ]
          },
          "metadata": {
            "tags": [],
            "needs_background": "light"
          }
        }
      ]
    },
    {
      "cell_type": "markdown",
      "metadata": {
        "id": "BvpfPmeChj_y"
      },
      "source": [
        "Create tokenizer for Spanish language.\r\n",
        "\r\n",
        "Print the Spanish vocabulary size, and word max length."
      ]
    },
    {
      "cell_type": "code",
      "metadata": {
        "colab": {
          "base_uri": "https://localhost:8080/"
        },
        "id": "tjPyKoMo5Qma",
        "outputId": "327d251b-94a0-4dc9-f815-c49696173f9c"
      },
      "source": [
        "# ---------- Spanish tokenizer ----------------\n",
        "spa_tokenizer = create_tokenizer(dataset[:, 1])\n",
        "spa_vocab = len(spa_tokenizer.word_index) + 1\n",
        "spa_len = max_length(dataset[:, 1])\n",
        "\n",
        "print('Spanish Vocabulary Size: %d' % spa_vocab)\n",
        "print('Spanish Max Length: %d' % (spa_len))"
      ],
      "execution_count": null,
      "outputs": [
        {
          "output_type": "stream",
          "text": [
            "Spanish Vocabulary Size: 10549\n",
            "Spanish Max Length: 14\n"
          ],
          "name": "stdout"
        }
      ]
    },
    {
      "cell_type": "markdown",
      "metadata": {
        "id": "3r2AW4eMhoeL"
      },
      "source": [
        "Print the number of Spanish words used for training, and testing. The amount of words is from 50,000 sentences."
      ]
    },
    {
      "cell_type": "code",
      "metadata": {
        "colab": {
          "base_uri": "https://localhost:8080/"
        },
        "id": "OLmUA89Q0qEi",
        "outputId": "0223f5d1-13b2-4b1a-fdc4-52ccdae521ca"
      },
      "source": [
        "print('{} Spanish words.'.format(len([word for sentence in dataset[:, 1] for word in sentence.split()])))"
      ],
      "execution_count": null,
      "outputs": [
        {
          "output_type": "stream",
          "text": [
            "269220 Spanish words.\n"
          ],
          "name": "stdout"
        }
      ]
    },
    {
      "cell_type": "markdown",
      "metadata": {
        "id": "PJm6IMzrhVqg"
      },
      "source": [
        "Histogram of the top 10 words in the spanish dataset"
      ]
    },
    {
      "cell_type": "code",
      "metadata": {
        "colab": {
          "base_uri": "https://localhost:8080/",
          "height": 281
        },
        "id": "Ntbn7QlLgpgD",
        "outputId": "3e8da7e4-4eb5-4445-f268-ade7f2744978"
      },
      "source": [
        "spa_words = spa_tokenizer.word_counts\n",
        "counts = Counter(spa_words)\n",
        "j = counts.most_common(10)\n",
        "\n",
        "plt.bar([j[i][0] for i in range(10)], [j[i][1] for i in range(10)], color='orange')\n",
        "plt.title('The top 10 words')\n",
        "plt.show()"
      ],
      "execution_count": null,
      "outputs": [
        {
          "output_type": "display_data",
          "data": {
            "image/png": "[encoded data removed]",
            "text/plain": [
              "<Figure size 432x288 with 1 Axes>"
            ]
          },
          "metadata": {
            "tags": [],
            "needs_background": "light"
          }
        }
      ]
    },
    {
      "cell_type": "markdown",
      "metadata": {
        "id": "r2QkRR5n5pIN"
      },
      "source": [
        "Create Encoder"
      ]
    },
    {
      "cell_type": "code",
      "metadata": {
        "id": "6OtJ4iMk5bFi"
      },
      "source": [
        "# Encode Sequences\n",
        "def encode_sequences(tokenizer, length, lines):\n",
        "  X = tokenizer.texts_to_sequences(lines)\n",
        "  X = pad_sequences(X, maxlen=length, padding='post')\n",
        "  return X"
      ],
      "execution_count": null,
      "outputs": []
    },
    {
      "cell_type": "markdown",
      "metadata": {
        "id": "zphGe_kW5ros"
      },
      "source": [
        "Create Decoder"
      ]
    },
    {
      "cell_type": "code",
      "metadata": {
        "id": "rG-Cq8JXtSWt"
      },
      "source": [
        "# Encoder output\n",
        "def encode_output(sequences, vocab_size):\n",
        "  y = tf.one_hot(sequences, vocab_size)\n",
        "  return y"
      ],
      "execution_count": null,
      "outputs": []
    },
    {
      "cell_type": "code",
      "metadata": {
        "id": "Wdjabmeu5xSP"
      },
      "source": [
        "# Training data\n",
        "train_x = encode_sequences(spa_tokenizer, spa_len, train[:, 1])\n",
        "train_y = encode_sequences(eng_tokenizer, eng_len, train[:, 0])\n",
        "train_y = encode_output(train_y, eng_vocab)"
      ],
      "execution_count": null,
      "outputs": []
    },
    {
      "cell_type": "markdown",
      "metadata": {
        "id": "qJjukgDUWUyR"
      },
      "source": [
        "The encoder and decoder are super-efficient to translate sentences from one language to another language. The Spanish sentences are fed to the encoder, and the decoder outputs the English translation. Here the encode_sequences function is first creating a sequence of the text and creating a unique ID for each word. The pad_sequences is a similar concept of padding like in the Convolutional layer because each sentence length is different so by doing this will make a constant length for each sentence (which is the maximum length of sentence in the data). It will bring the ability to handle variable length input and output sequences of text without losing some words. The English translation should also be used as inputs to an encoder to create a seqToseq form."
      ]
    },
    {
      "cell_type": "markdown",
      "metadata": {
        "id": "Rh8APEbnbFBe"
      },
      "source": [
        "The encode_output function which is actually a decoder, creates a one hot vector for the whole sentence by using full vocabulary words in the dataset. In other words, the size of these one hot vectors are the length of eng_vocab (which is 6464). "
      ]
    },
    {
      "cell_type": "code",
      "metadata": {
        "id": "5jxdfzox54sw"
      },
      "source": [
        "# Test data\n",
        "test_x = encode_sequences(spa_tokenizer, spa_len, test[:, 1])\n",
        "test_y = encode_sequences(eng_tokenizer, eng_len, test[:, 0])\n",
        "test_y = encode_output(test_y, eng_vocab)"
      ],
      "execution_count": null,
      "outputs": []
    },
    {
      "cell_type": "markdown",
      "metadata": {
        "id": "00TL52F1eQHW"
      },
      "source": [
        "Visualizing the test data after encoding."
      ]
    },
    {
      "cell_type": "code",
      "metadata": {
        "colab": {
          "base_uri": "https://localhost:8080/"
        },
        "id": "0OlQLpmK58ib",
        "outputId": "9c8d2ed5-2c30-414c-c5cc-d7f7c772cb45"
      },
      "source": [
        "test_x[0]"
      ],
      "execution_count": null,
      "outputs": [
        {
          "output_type": "execute_result",
          "data": {
            "text/plain": [
              "array([133,   1, 103,   9,   3,  63,   6,  25, 994,   0,   0,   0,   0,\n",
              "         0], dtype=int32)"
            ]
          },
          "metadata": {
            "tags": []
          },
          "execution_count": 24
        }
      ]
    },
    {
      "cell_type": "code",
      "metadata": {
        "colab": {
          "base_uri": "https://localhost:8080/"
        },
        "id": "IEMrpGqx5_oo",
        "outputId": "5486204e-4cf9-4f86-fd25-120fd61f0bad"
      },
      "source": [
        "test_y[0]"
      ],
      "execution_count": null,
      "outputs": [
        {
          "output_type": "execute_result",
          "data": {
            "text/plain": [
              "<tf.Tensor: shape=(10, 6461), dtype=float32, numpy=\n",
              "array([[0., 0., 0., ..., 0., 0., 0.],\n",
              "       [0., 0., 0., ..., 0., 0., 0.],\n",
              "       [0., 0., 1., ..., 0., 0., 0.],\n",
              "       ...,\n",
              "       [0., 0., 0., ..., 0., 0., 0.],\n",
              "       [1., 0., 0., ..., 0., 0., 0.],\n",
              "       [1., 0., 0., ..., 0., 0., 0.]], dtype=float32)>"
            ]
          },
          "metadata": {
            "tags": []
          },
          "execution_count": 25
        }
      ]
    },
    {
      "cell_type": "markdown",
      "metadata": {
        "id": "RNlP_XDmL3sS"
      },
      "source": [
        "## Metric for measuring models\n",
        "\n",
        "\n",
        "We decided to use the most commonly accepted metric for testing machine language translation, which is the Bilingual Evaluation Understudy (BLEU). BLEU is an algorithm for evaluating the quality of text which has been machine-translated from one natural language to another. Quality is considered to be the correspondence between a machine's output and that of a human: \"the closer a machine translation is to a professional human translation, the better it is\" – this is the central idea behind BLEU."
      ]
    },
    {
      "cell_type": "code",
      "metadata": {
        "id": "EGcdxtK4NAls",
        "colab": {
          "base_uri": "https://localhost:8080/"
        },
        "outputId": "c28da408-26fc-4dee-d50d-040b95177b9c"
      },
      "source": [
        "# Libraries needed\n",
        "import nltk\n",
        "import nltk.translate.bleu_score as bleu\n",
        "\n",
        "import math\n",
        "import numpy\n",
        "import os\n",
        "\n",
        "try:\n",
        "  nltk.data.find('tokenizers/punkt')\n",
        "except LookupError:\n",
        "  nltk.download('punkt')"
      ],
      "execution_count": null,
      "outputs": [
        {
          "output_type": "stream",
          "text": [
            "[nltk_data] Downloading package punkt to /root/nltk_data...\n",
            "[nltk_data]   Unzipping tokenizers/punkt.zip.\n"
          ],
          "name": "stdout"
        }
      ]
    },
    {
      "cell_type": "code",
      "metadata": {
        "id": "qlETHy3E90L0"
      },
      "source": [
        "def word_int(integer, tokenizer):\n",
        "  for word, index in tokenizer.word_index.items():\n",
        "    if index == integer:\n",
        "      return word\n",
        "  return None"
      ],
      "execution_count": null,
      "outputs": []
    },
    {
      "cell_type": "markdown",
      "metadata": {
        "id": "DfIvCrp7o09A"
      },
      "source": [
        "A function that allows us to input test_x, and it outputs a translation (prediction)."
      ]
    },
    {
      "cell_type": "code",
      "metadata": {
        "id": "hlHotl1H92he"
      },
      "source": [
        "def predict_sequence(model, tokenizer, value):\n",
        "  prediction = model.predict(value, verbose=0)[0]\n",
        "  integers = [np.argmax(vector) for vector in prediction]\n",
        "  target = []\n",
        "  for i in integers:\n",
        "    word = word_int(i, tokenizer)\n",
        "    if word is None:\n",
        "      break\n",
        "    target.append(word)\n",
        "  return ' '.join(target)"
      ],
      "execution_count": null,
      "outputs": []
    },
    {
      "cell_type": "markdown",
      "metadata": {
        "id": "WMiLeeZFlTfc"
      },
      "source": [
        "BLEU_score was created as a way to provide a score for our models. The way that it works is that it takes a test_x sentence (test x validation), and uses the model to provide a translation (prediction), then that translation is compared against the corresponding test_y sentence (test y validation). The process of comparing is done by using the BLEU metric. \r\n",
        " \r\n",
        "Based on our understanding of how to compute a score for our models, we decided to use 3,000 sentences from our test sentences (validation) to provide an accurate measurement of the model. Basically, this process represents the process of providing input from a user that the model has never seen, and rendering a translation on this input. In this instance we have the solution already, and it allows us to score how well the translation was performed.\r\n",
        "\r\n",
        "Note: The function required the use of using smoothing to provide an accurate score. BLEU was originally designed to provide Corpus scoring, and not individual sentence scoring. The smoothing allows for scoring to be done on a sentence-to-sentence basis."
      ]
    },
    {
      "cell_type": "code",
      "metadata": {
        "id": "439Nw2v4AIsD"
      },
      "source": [
        "from nltk.translate.bleu_score import SmoothingFunction\n",
        "\n",
        "def BLEU_score(model):\n",
        "  smoothie = SmoothingFunction().method2\n",
        "  count = 0\n",
        "  score_example = 0\n",
        "  for i, value in enumerate(test_x):\n",
        "    value = value.reshape((1, value.shape[0]))\n",
        "    translation = predict_sequence(model, eng_tokenizer, value)\n",
        "    _target, _src = test[i]\n",
        "    if i < 3000:\n",
        "      #count += 1\n",
        "      translation = str(translation).split()\n",
        "      _target = str(_target).split()\n",
        "      new_score = bleu.sentence_bleu([translation], _target, smoothing_function=smoothie)\n",
        "      if (new_score > 0):\n",
        "        count += 1\n",
        "        score_example += new_score\n",
        "    elif i > 3000:\n",
        "      break\n",
        "  final_score = score_example/count\n",
        "  return final_score"
      ],
      "execution_count": null,
      "outputs": []
    },
    {
      "cell_type": "markdown",
      "metadata": {
        "id": "2MCD-uuPnh26"
      },
      "source": [
        "A simple function that provides visual translations. Similar to the BLEU_score function, it compares the translation of (test_x) to (test_y), but it prints it out for the human eye to see."
      ]
    },
    {
      "cell_type": "code",
      "metadata": {
        "id": "W1heCXI1CwQj"
      },
      "source": [
        "def visualize_translation(model, numOfLines):\n",
        "  for i, value in enumerate(test_x):\n",
        "    value = value.reshape((1, value.shape[0]))\n",
        "    translation = predict_sequence(model, eng_tokenizer, value)\n",
        "    _target, _src = test[i]\n",
        "    if i < numOfLines:\n",
        "      print('Target=[%s], Prediction[%s]' % (_target, translation))\n",
        "    elif i > numOfLines+1:\n",
        "      break"
      ],
      "execution_count": null,
      "outputs": []
    },
    {
      "cell_type": "code",
      "metadata": {
        "id": "NMn9PRRmMIun"
      },
      "source": [
        "# For repeatability\r\n",
        "random.seed(0) "
      ],
      "execution_count": null,
      "outputs": []
    },
    {
      "cell_type": "markdown",
      "metadata": {
        "id": "dWgBhiV8NlYw"
      },
      "source": [
        "## Build RNN model"
      ]
    },
    {
      "cell_type": "code",
      "metadata": {
        "id": "LOmgftJc6tXf"
      },
      "source": [
        "embeded_size = 150\n",
        "\n",
        "model1 = Sequential()\n",
        "\n",
        "model1.add(Embedding(spa_vocab, embeded_size, input_length=spa_len))\n",
        "model1.add(BatchNormalization())\n",
        "model1.add(SimpleRNN(300))\n",
        "model1.add(BatchNormalization())\n",
        "model1.add(RepeatVector(eng_len))\n",
        "model1.add(Bidirectional(SimpleRNN(300, return_sequences=True)))\n",
        "model1.add(BatchNormalization())\n",
        "model1.add(TimeDistributed(Dense(eng_vocab, activation='softmax')))"
      ],
      "execution_count": null,
      "outputs": []
    },
    {
      "cell_type": "code",
      "metadata": {
        "colab": {
          "base_uri": "https://localhost:8080/"
        },
        "id": "24jcq4za7H9D",
        "outputId": "1008267d-71da-4dea-cd49-13a969a541a8"
      },
      "source": [
        "model1.summary()"
      ],
      "execution_count": null,
      "outputs": [
        {
          "output_type": "stream",
          "text": [
            "Model: \"sequential\"\n",
            "_________________________________________________________________\n",
            "Layer (type)                 Output Shape              Param #   \n",
            "=================================================================\n",
            "embedding (Embedding)        (None, 14, 150)           1582350   \n",
            "_________________________________________________________________\n",
            "batch_normalization (BatchNo (None, 14, 150)           600       \n",
            "_________________________________________________________________\n",
            "simple_rnn (SimpleRNN)       (None, 300)               135300    \n",
            "_________________________________________________________________\n",
            "batch_normalization_1 (Batch (None, 300)               1200      \n",
            "_________________________________________________________________\n",
            "repeat_vector (RepeatVector) (None, 10, 300)           0         \n",
            "_________________________________________________________________\n",
            "bidirectional (Bidirectional (None, 10, 600)           360600    \n",
            "_________________________________________________________________\n",
            "batch_normalization_2 (Batch (None, 10, 600)           2400      \n",
            "_________________________________________________________________\n",
            "time_distributed (TimeDistri (None, 10, 6461)          3883061   \n",
            "=================================================================\n",
            "Total params: 5,965,511\n",
            "Trainable params: 5,963,411\n",
            "Non-trainable params: 2,100\n",
            "_________________________________________________________________\n"
          ],
          "name": "stdout"
        }
      ]
    },
    {
      "cell_type": "markdown",
      "metadata": {
        "id": "YgJyLEah7dkD"
      },
      "source": [
        "The baseline RNN model is a Sequential model which is prepared to train in two different languages. The first layer \"Embedding\" is converting the word represented with the ID into embedding. It's a classification model. The RNN model tends to do poorly because it has the vanishing gradient problem. Batch Normalization is used to rescale the data effictively, normally used insead of Droupout. The repeat_vector layer repeats the inputs n times which influences the shape of input data. Lastly, using 'softmax' as an activation. \n",
        "\n",
        "When constructing this model we tried using numerous layers but it would overfit early on, so we settled with a simple RNN model with not a lot of layers."
      ]
    },
    {
      "cell_type": "markdown",
      "metadata": {
        "id": "RSYRYAMSasDL"
      },
      "source": [
        "### Train RNN"
      ]
    },
    {
      "cell_type": "code",
      "metadata": {
        "colab": {
          "base_uri": "https://localhost:8080/"
        },
        "id": "qZ2l2yNv70fH",
        "outputId": "25397631-0bfb-4e48-e470-e43942b894f3"
      },
      "source": [
        "model1.compile(optimizer='adam', \n",
        "              loss='categorical_crossentropy', \n",
        "              metrics=['accuracy'])\n",
        "\n",
        "history1 = model1.fit(train_x, \n",
        "                    train_y, \n",
        "                    epochs=30, \n",
        "                    batch_size=32, \n",
        "                    validation_data=(test_x, test_y))"
      ],
      "execution_count": null,
      "outputs": [
        {
          "output_type": "stream",
          "text": [
            "Epoch 1/30\n",
            "1250/1250 [==============================] - 45s 33ms/step - loss: 4.2377 - accuracy: 0.4422 - val_loss: 3.9239 - val_accuracy: 0.4170\n",
            "Epoch 2/30\n",
            "1250/1250 [==============================] - 39s 31ms/step - loss: 3.1866 - accuracy: 0.4938 - val_loss: 3.6977 - val_accuracy: 0.4379\n",
            "Epoch 3/30\n",
            "1250/1250 [==============================] - 39s 31ms/step - loss: 2.9095 - accuracy: 0.5099 - val_loss: 15.9961 - val_accuracy: 0.0020\n",
            "Epoch 4/30\n",
            "1250/1250 [==============================] - 40s 32ms/step - loss: 2.9438 - accuracy: 0.5060 - val_loss: 3.5573 - val_accuracy: 0.4461\n",
            "Epoch 5/30\n",
            "1250/1250 [==============================] - 40s 32ms/step - loss: 2.7854 - accuracy: 0.5135 - val_loss: 3.5001 - val_accuracy: 0.4521\n",
            "Epoch 6/30\n",
            "1250/1250 [==============================] - 38s 31ms/step - loss: 2.6292 - accuracy: 0.5248 - val_loss: 3.4298 - val_accuracy: 0.4626\n",
            "Epoch 7/30\n",
            "1250/1250 [==============================] - 39s 31ms/step - loss: 2.5104 - accuracy: 0.5345 - val_loss: 3.4255 - val_accuracy: 0.4664\n",
            "Epoch 8/30\n",
            "1250/1250 [==============================] - 39s 31ms/step - loss: 2.4086 - accuracy: 0.5424 - val_loss: 3.4101 - val_accuracy: 0.4703\n",
            "Epoch 9/30\n",
            "1250/1250 [==============================] - 39s 31ms/step - loss: 2.3185 - accuracy: 0.5503 - val_loss: 3.3601 - val_accuracy: 0.4714\n",
            "Epoch 10/30\n",
            "1250/1250 [==============================] - 39s 31ms/step - loss: 2.2321 - accuracy: 0.5578 - val_loss: 3.3355 - val_accuracy: 0.4808\n",
            "Epoch 11/30\n",
            "1250/1250 [==============================] - 39s 31ms/step - loss: 2.1805 - accuracy: 0.5620 - val_loss: 3.3742 - val_accuracy: 0.4818\n",
            "Epoch 12/30\n",
            "1250/1250 [==============================] - 40s 32ms/step - loss: 2.1228 - accuracy: 0.5679 - val_loss: 3.3930 - val_accuracy: 0.4803\n",
            "Epoch 13/30\n",
            "1250/1250 [==============================] - 39s 31ms/step - loss: 2.0788 - accuracy: 0.5718 - val_loss: 3.3421 - val_accuracy: 0.4835\n",
            "Epoch 14/30\n",
            "1250/1250 [==============================] - 39s 31ms/step - loss: 2.0311 - accuracy: 0.5771 - val_loss: 3.3224 - val_accuracy: 0.4878\n",
            "Epoch 15/30\n",
            "1250/1250 [==============================] - 39s 31ms/step - loss: 1.9889 - accuracy: 0.5830 - val_loss: 3.3745 - val_accuracy: 0.4862\n",
            "Epoch 16/30\n",
            "1250/1250 [==============================] - 39s 31ms/step - loss: 1.9523 - accuracy: 0.5867 - val_loss: 3.3718 - val_accuracy: 0.4824\n",
            "Epoch 17/30\n",
            "1250/1250 [==============================] - 39s 31ms/step - loss: 1.9084 - accuracy: 0.5917 - val_loss: 3.3258 - val_accuracy: 0.4904\n",
            "Epoch 18/30\n",
            "1250/1250 [==============================] - 39s 31ms/step - loss: 1.8751 - accuracy: 0.5957 - val_loss: 3.4210 - val_accuracy: 0.4852\n",
            "Epoch 19/30\n",
            "1250/1250 [==============================] - 38s 31ms/step - loss: 1.8557 - accuracy: 0.5980 - val_loss: 3.3432 - val_accuracy: 0.4916\n",
            "Epoch 20/30\n",
            "1250/1250 [==============================] - 38s 31ms/step - loss: 1.8333 - accuracy: 0.6009 - val_loss: 3.3405 - val_accuracy: 0.4882\n",
            "Epoch 21/30\n",
            "1250/1250 [==============================] - 39s 31ms/step - loss: 1.8155 - accuracy: 0.6047 - val_loss: 3.3398 - val_accuracy: 0.4921\n",
            "Epoch 22/30\n",
            "1250/1250 [==============================] - 38s 31ms/step - loss: 1.7943 - accuracy: 0.6066 - val_loss: 3.3628 - val_accuracy: 0.4894\n",
            "Epoch 23/30\n",
            "1250/1250 [==============================] - 39s 31ms/step - loss: 1.7666 - accuracy: 0.6095 - val_loss: 3.3658 - val_accuracy: 0.4954\n",
            "Epoch 24/30\n",
            "1250/1250 [==============================] - 38s 30ms/step - loss: 1.7454 - accuracy: 0.6132 - val_loss: 3.3888 - val_accuracy: 0.4940\n",
            "Epoch 25/30\n",
            "1250/1250 [==============================] - 38s 31ms/step - loss: 1.7193 - accuracy: 0.6174 - val_loss: 3.3867 - val_accuracy: 0.4937\n",
            "Epoch 26/30\n",
            "1250/1250 [==============================] - 39s 31ms/step - loss: 1.7143 - accuracy: 0.6180 - val_loss: 3.3582 - val_accuracy: 0.4973\n",
            "Epoch 27/30\n",
            "1250/1250 [==============================] - 39s 31ms/step - loss: 1.6996 - accuracy: 0.6207 - val_loss: 3.3811 - val_accuracy: 0.4969\n",
            "Epoch 28/30\n",
            "1250/1250 [==============================] - 39s 31ms/step - loss: 1.6931 - accuracy: 0.6207 - val_loss: 3.3724 - val_accuracy: 0.5006\n",
            "Epoch 29/30\n",
            "1250/1250 [==============================] - 40s 32ms/step - loss: 1.6786 - accuracy: 0.6233 - val_loss: 3.3402 - val_accuracy: 0.4988\n",
            "Epoch 30/30\n",
            "1250/1250 [==============================] - 38s 30ms/step - loss: 1.6577 - accuracy: 0.6262 - val_loss: 3.3597 - val_accuracy: 0.4988\n"
          ],
          "name": "stdout"
        }
      ]
    },
    {
      "cell_type": "markdown",
      "metadata": {
        "id": "teAFLVzea0oo"
      },
      "source": [
        "### Plot loss and accuracy"
      ]
    },
    {
      "cell_type": "code",
      "metadata": {
        "colab": {
          "base_uri": "https://localhost:8080/",
          "height": 545
        },
        "id": "QnBUsIXla3-b",
        "outputId": "704b5bd7-efba-4f71-f449-500940c403dc"
      },
      "source": [
        "acc = history1.history['accuracy']\n",
        "val_acc = history1.history['val_accuracy']\n",
        "loss = history1.history['loss']\n",
        "val_loss = history1.history['val_loss']\n",
        "\n",
        "epochs = range(len(acc))\n",
        "\n",
        "plt.plot(epochs, acc, 'bo', label='Training acc')\n",
        "plt.plot(epochs, val_acc, 'b', label='Validation acc')\n",
        "plt.title('Training and validation accuracy')\n",
        "plt.legend()\n",
        "plt.show()\n",
        "\n",
        "plt.plot(epochs, loss, 'bo', label='Training loss')\n",
        "plt.plot(epochs, val_loss, 'b', label='Validation loss')\n",
        "plt.title('Training and validation loss')\n",
        "plt.legend()\n",
        "plt.show()"
      ],
      "execution_count": null,
      "outputs": [
        {
          "output_type": "display_data",
          "data": {
            "image/png": "[encoded data removed]",
            "text/plain": [
              "<Figure size 432x288 with 1 Axes>"
            ]
          },
          "metadata": {
            "tags": [],
            "needs_background": "light"
          }
        },
        {
          "output_type": "display_data",
          "data": {
            "image/png": "[encoded data removed]",
            "text/plain": [
              "<Figure size 432x288 with 1 Axes>"
            ]
          },
          "metadata": {
            "tags": [],
            "needs_background": "light"
          }
        }
      ]
    },
    {
      "cell_type": "markdown",
      "metadata": {
        "id": "5-HXa1szAYUK"
      },
      "source": [
        "From the plots of 'Training and validation loss' we can conclude that the model is training well. Although in the beginning it decreases, it looks like there is minimal overfitting with the validation loss because it decreases to a point and begins increasing again, but it is not a huge decrease."
      ]
    },
    {
      "cell_type": "markdown",
      "metadata": {
        "id": "jawpz2VWbmQ-"
      },
      "source": [
        "### Test RNN translation output"
      ]
    },
    {
      "cell_type": "code",
      "metadata": {
        "colab": {
          "base_uri": "https://localhost:8080/"
        },
        "id": "303NkuRGAo20",
        "outputId": "727ad08d-7018-4145-e6d6-ee42ed8095aa"
      },
      "source": [
        "score1 = BLEU_score(model1)\n",
        "print('BLEU score for model: {:.2f}'.format(score1))"
      ],
      "execution_count": null,
      "outputs": [
        {
          "output_type": "stream",
          "text": [
            "BLEU score for model: 0.28\n"
          ],
          "name": "stdout"
        }
      ]
    },
    {
      "cell_type": "markdown",
      "metadata": {
        "id": "tsvu5qNWDFWG"
      },
      "source": [
        "Here we can visualize some translations of how the RNN model performed.\n"
      ]
    },
    {
      "cell_type": "code",
      "metadata": {
        "colab": {
          "base_uri": "https://localhost:8080/"
        },
        "id": "WZomsxKQClZD",
        "outputId": "9bd304bd-ce4f-41da-d799-59d95aae430c"
      },
      "source": [
        "visualize_translation(model1, 40)"
      ],
      "execution_count": null,
      "outputs": [
        {
          "output_type": "stream",
          "text": [
            "Target=[we have to be at work by nine], Prediction[i have to to to by book nine]\n",
            "Target=[its just your imagination], Prediction[its only dangerous]\n",
            "Target=[i dont want to see you here again], Prediction[i dont want to go to]\n",
            "Target=[hes a doctor of good reputation], Prediction[its a same year untouched]\n",
            "Target=[it looks like mary is drunk again], Prediction[i not to to to]\n",
            "Target=[tom also has plans to go there], Prediction[tom seems to be be]\n",
            "Target=[i did nothing during the holidays], Prediction[i dont you your of]\n",
            "Target=[the plane arrived exactly at nine], Prediction[the rain exploded five days]\n",
            "Target=[you must think this is funny], Prediction[what dont of if its hot]\n",
            "Target=[he claims that he is a painter], Prediction[i think its to neat good]\n",
            "Target=[i need to get something for tom], Prediction[i i to to to]\n",
            "Target=[one of the girls was left behind], Prediction[james madison the than trees]\n",
            "Target=[whats your favorite number], Prediction[whats your favorite web]\n",
            "Target=[tom hasnt been here since monday], Prediction[tom is bread good up tennis]\n",
            "Target=[you may talk as much as you like], Prediction[what does do you mean]\n",
            "Target=[i met a canadian man named tom], Prediction[i am to to to hour]\n",
            "Target=[tom doesnt really like you much], Prediction[its is too to to]\n",
            "Target=[you were right after all], Prediction[you are your the]\n",
            "Target=[are you sure you want that one], Prediction[i dont care what i i do]\n",
            "Target=[he wants to learn to swim], Prediction[he wants to go to america]\n",
            "Target=[i like this coat may i try it on], Prediction[i helped the of to arrival]\n",
            "Target=[i knew you were behind this], Prediction[i wish you to be tom]\n",
            "Target=[her garden is a work of art], Prediction[the sun is a of]\n",
            "Target=[dinner is probably ready by now], Prediction[toms the bread last at]\n",
            "Target=[your screams frightened me], Prediction[youre wasting frightened night]\n",
            "Target=[she likes to dress up as a nurse], Prediction[tom is cooking older]\n",
            "Target=[could you call me tonight please], Prediction[do you know toms parents]\n",
            "Target=[he was lying on the grass], Prediction[he looked swimming on the floor]\n",
            "Target=[mary is loyal to her country], Prediction[tom chopped in in the country]\n",
            "Target=[this is all i want to do], Prediction[it i this this this this it]\n",
            "Target=[ill take care of the horses], Prediction[i should follow without advice]\n",
            "Target=[that is out of the question], Prediction[its a thing same]\n",
            "Target=[ill get fired if they find out], Prediction[why kind you plant is]\n",
            "Target=[this does not make me happy], Prediction[she might not that reason]\n",
            "Target=[i actually tried to do that once], Prediction[im not as was as a]\n",
            "Target=[wet clothes stick to your skin], Prediction[the desert ends above ship]\n",
            "Target=[tom has many things to do today], Prediction[he has no to to to do]\n",
            "Target=[tom lived in japan for ten years], Prediction[tom is no for for]\n",
            "Target=[he seems to have missed the point], Prediction[did im no to to do]\n",
            "Target=[the land had never been ploughed], Prediction[he is to to to]\n"
          ],
          "name": "stdout"
        }
      ]
    },
    {
      "cell_type": "markdown",
      "metadata": {
        "id": "9KMQNwGHNp9P"
      },
      "source": [
        "\n",
        "##Build LSTM model"
      ]
    },
    {
      "cell_type": "code",
      "metadata": {
        "colab": {
          "base_uri": "https://localhost:8080/"
        },
        "id": "CjNxu1FCNrpP",
        "outputId": "b534b779-dcbb-463f-c796-a6b6650f7c7a"
      },
      "source": [
        "embeded_size = 150\n",
        "\n",
        "model2 = Sequential()\n",
        "model2.add(Embedding(spa_vocab, embeded_size, input_length=spa_len))\n",
        "model2.add(BatchNormalization())\n",
        "model2.add(LSTM(256))\n",
        "model2.add(BatchNormalization())\n",
        "model2.add(RepeatVector(eng_len))\n",
        "model2.add(LSTM(256))\n",
        "model2.add(BatchNormalization())\n",
        "model2.add(RepeatVector(eng_len))\n",
        "model2.add(LSTM(256, return_sequences=True, dropout=0.2))\n",
        "model2.add(TimeDistributed(Dense(eng_vocab, activation=\"softmax\")))\n",
        "\n",
        "model2.summary()"
      ],
      "execution_count": null,
      "outputs": [
        {
          "output_type": "stream",
          "text": [
            "Model: \"sequential_1\"\n",
            "_________________________________________________________________\n",
            "Layer (type)                 Output Shape              Param #   \n",
            "=================================================================\n",
            "embedding_1 (Embedding)      (None, 14, 150)           1582350   \n",
            "_________________________________________________________________\n",
            "batch_normalization_3 (Batch (None, 14, 150)           600       \n",
            "_________________________________________________________________\n",
            "lstm (LSTM)                  (None, 256)               416768    \n",
            "_________________________________________________________________\n",
            "batch_normalization_4 (Batch (None, 256)               1024      \n",
            "_________________________________________________________________\n",
            "repeat_vector_1 (RepeatVecto (None, 10, 256)           0         \n",
            "_________________________________________________________________\n",
            "lstm_1 (LSTM)                (None, 256)               525312    \n",
            "_________________________________________________________________\n",
            "batch_normalization_5 (Batch (None, 256)               1024      \n",
            "_________________________________________________________________\n",
            "repeat_vector_2 (RepeatVecto (None, 10, 256)           0         \n",
            "_________________________________________________________________\n",
            "lstm_2 (LSTM)                (None, 10, 256)           525312    \n",
            "_________________________________________________________________\n",
            "time_distributed_1 (TimeDist (None, 10, 6461)          1660477   \n",
            "=================================================================\n",
            "Total params: 4,712,867\n",
            "Trainable params: 4,711,543\n",
            "Non-trainable params: 1,324\n",
            "_________________________________________________________________\n"
          ],
          "name": "stdout"
        }
      ]
    },
    {
      "cell_type": "markdown",
      "metadata": {
        "id": "J9F23Vvqgrek"
      },
      "source": [
        "The LSTM model is based on the Sequential model which is prepared to train in two different languages and to translate from one language to another. The LSTM model is a \"Long Short Term Memory network\" and best defined as capable of learning long-term dependencies. LSTM is considered to be better than RNN because it has been proposed to solve the vanishing gradient problem that RNN doesn't. The first layer \"Embedding\" is converting the word represented with the ID into embedding. It will map similar words into one region during the training which means it's using a classification model.  In this model the LSTM layer will learn the translation by receiving the mapped word2vec data from the embedding layer. Batch Normalization is used to rescale the data effectively, \"this operation lets the model learn the optimal scale and mean of each of the layer’s inputs.\" If we add the Batch Normalization layer, then no need to scale and standardize the data. The repeat_vector layer repeats the inputs n times which is beneficial in using some layers multiple times that affect the shape of input data. "
      ]
    },
    {
      "cell_type": "markdown",
      "metadata": {
        "id": "UYy9ZOc3bNKj"
      },
      "source": [
        "### Train LSTM"
      ]
    },
    {
      "cell_type": "code",
      "metadata": {
        "colab": {
          "base_uri": "https://localhost:8080/"
        },
        "id": "_T594AOkbPf6",
        "outputId": "78a5c3b0-7017-40b4-eb05-c6cfa9abe711"
      },
      "source": [
        "model2.compile(optimizer='adam', loss='categorical_crossentropy',\n",
        " metrics=['accuracy'])\n",
        "history2 = model2.fit(train_x, \n",
        "                    train_y, \n",
        "                    epochs=30, \n",
        "                    batch_size=32, \n",
        "                    validation_data=(test_x, test_y))"
      ],
      "execution_count": null,
      "outputs": [
        {
          "output_type": "stream",
          "text": [
            "Epoch 1/30\n",
            "1250/1250 [==============================] - 36s 23ms/step - loss: 4.0979 - accuracy: 0.4599 - val_loss: 4.0452 - val_accuracy: 0.4265\n",
            "Epoch 2/30\n",
            "1250/1250 [==============================] - 28s 22ms/step - loss: 3.3228 - accuracy: 0.4898 - val_loss: 3.9143 - val_accuracy: 0.4286\n",
            "Epoch 3/30\n",
            "1250/1250 [==============================] - 28s 22ms/step - loss: 3.1675 - accuracy: 0.4978 - val_loss: 3.6469 - val_accuracy: 0.4389\n",
            "Epoch 4/30\n",
            "1250/1250 [==============================] - 28s 22ms/step - loss: 3.0408 - accuracy: 0.5046 - val_loss: 3.7505 - val_accuracy: 0.4362\n",
            "Epoch 5/30\n",
            "1250/1250 [==============================] - 28s 22ms/step - loss: 2.9582 - accuracy: 0.5097 - val_loss: 3.4437 - val_accuracy: 0.4615\n",
            "Epoch 6/30\n",
            "1250/1250 [==============================] - 27s 22ms/step - loss: 2.7683 - accuracy: 0.5254 - val_loss: 3.6586 - val_accuracy: 0.4478\n",
            "Epoch 7/30\n",
            "1250/1250 [==============================] - 28s 22ms/step - loss: 2.6808 - accuracy: 0.5314 - val_loss: 3.3735 - val_accuracy: 0.4638\n",
            "Epoch 8/30\n",
            "1250/1250 [==============================] - 27s 22ms/step - loss: 2.6199 - accuracy: 0.5354 - val_loss: 4.4441 - val_accuracy: 0.4044\n",
            "Epoch 9/30\n",
            "1250/1250 [==============================] - 28s 22ms/step - loss: 2.4318 - accuracy: 0.5505 - val_loss: 3.7912 - val_accuracy: 0.4452\n",
            "Epoch 10/30\n",
            "1250/1250 [==============================] - 28s 22ms/step - loss: 2.2718 - accuracy: 0.5628 - val_loss: 2.9793 - val_accuracy: 0.5062\n",
            "Epoch 11/30\n",
            "1250/1250 [==============================] - 28s 23ms/step - loss: 1.9982 - accuracy: 0.5961 - val_loss: 3.0887 - val_accuracy: 0.4980\n",
            "Epoch 12/30\n",
            "1250/1250 [==============================] - 27s 22ms/step - loss: 1.8050 - accuracy: 0.6240 - val_loss: 2.8381 - val_accuracy: 0.5283\n",
            "Epoch 13/30\n",
            "1250/1250 [==============================] - 28s 22ms/step - loss: 1.6418 - accuracy: 0.6502 - val_loss: 2.7141 - val_accuracy: 0.5474\n",
            "Epoch 14/30\n",
            "1250/1250 [==============================] - 28s 22ms/step - loss: 1.4804 - accuracy: 0.6776 - val_loss: 2.6474 - val_accuracy: 0.5560\n",
            "Epoch 15/30\n",
            "1250/1250 [==============================] - 28s 22ms/step - loss: 1.3393 - accuracy: 0.7035 - val_loss: 2.5826 - val_accuracy: 0.5675\n",
            "Epoch 16/30\n",
            "1250/1250 [==============================] - 28s 23ms/step - loss: 1.2095 - accuracy: 0.7274 - val_loss: 2.4304 - val_accuracy: 0.5948\n",
            "Epoch 17/30\n",
            "1250/1250 [==============================] - 28s 23ms/step - loss: 1.1032 - accuracy: 0.7492 - val_loss: 2.4902 - val_accuracy: 0.5856\n",
            "Epoch 18/30\n",
            "1250/1250 [==============================] - 29s 23ms/step - loss: 1.0118 - accuracy: 0.7664 - val_loss: 6.1231 - val_accuracy: 0.2681\n",
            "Epoch 19/30\n",
            "1250/1250 [==============================] - 29s 23ms/step - loss: 1.6440 - accuracy: 0.6447 - val_loss: 2.9653 - val_accuracy: 0.5139\n",
            "Epoch 20/30\n",
            "1250/1250 [==============================] - 28s 23ms/step - loss: 1.6114 - accuracy: 0.6475 - val_loss: 2.6331 - val_accuracy: 0.5653\n",
            "Epoch 21/30\n",
            "1250/1250 [==============================] - 29s 23ms/step - loss: 1.2396 - accuracy: 0.7155 - val_loss: 2.4790 - val_accuracy: 0.5957\n",
            "Epoch 22/30\n",
            "1250/1250 [==============================] - 29s 23ms/step - loss: 1.0594 - accuracy: 0.7532 - val_loss: 2.4069 - val_accuracy: 0.6060\n",
            "Epoch 23/30\n",
            "1250/1250 [==============================] - 29s 23ms/step - loss: 0.9474 - accuracy: 0.7779 - val_loss: 2.4186 - val_accuracy: 0.6148\n",
            "Epoch 24/30\n",
            "1250/1250 [==============================] - 29s 23ms/step - loss: 0.8633 - accuracy: 0.7954 - val_loss: 2.3706 - val_accuracy: 0.6234\n",
            "Epoch 25/30\n",
            "1250/1250 [==============================] - 29s 23ms/step - loss: 0.7927 - accuracy: 0.8107 - val_loss: 2.3782 - val_accuracy: 0.6244\n",
            "Epoch 26/30\n",
            "1250/1250 [==============================] - 29s 23ms/step - loss: 0.7358 - accuracy: 0.8219 - val_loss: 2.3689 - val_accuracy: 0.6348\n",
            "Epoch 27/30\n",
            "1250/1250 [==============================] - 29s 23ms/step - loss: 0.6837 - accuracy: 0.8338 - val_loss: 2.3194 - val_accuracy: 0.6405\n",
            "Epoch 28/30\n",
            "1250/1250 [==============================] - 29s 23ms/step - loss: 0.6419 - accuracy: 0.8430 - val_loss: 2.3971 - val_accuracy: 0.6332\n",
            "Epoch 29/30\n",
            "1250/1250 [==============================] - 29s 23ms/step - loss: 0.6021 - accuracy: 0.8519 - val_loss: 2.4986 - val_accuracy: 0.6273\n",
            "Epoch 30/30\n",
            "1250/1250 [==============================] - 29s 23ms/step - loss: 0.5690 - accuracy: 0.8587 - val_loss: 2.3131 - val_accuracy: 0.6539\n"
          ],
          "name": "stdout"
        }
      ]
    },
    {
      "cell_type": "markdown",
      "metadata": {
        "id": "2Cw954sAbQgw"
      },
      "source": [
        "### Plot loss and accuracy"
      ]
    },
    {
      "cell_type": "code",
      "metadata": {
        "colab": {
          "base_uri": "https://localhost:8080/",
          "height": 562
        },
        "id": "Oh7NSyOAbT_p",
        "outputId": "49e9ed7e-48dd-452c-8996-e4010d15c20c"
      },
      "source": [
        "acc = history2.history['accuracy']\n",
        "val_acc = history2.history['val_accuracy']\n",
        "loss = history2.history['loss']\n",
        "val_loss = history2.history['val_loss']\n",
        "\n",
        "epochs = range(1, len(acc) + 1)\n",
        "\n",
        "plt.plot(epochs, acc, 'bo', label='Training acc')\n",
        "plt.plot(epochs, val_acc, 'b', label='Validation acc')\n",
        "plt.title('Training and validation accuracy')\n",
        "plt.legend()\n",
        "\n",
        "plt.figure()\n",
        "\n",
        "plt.plot(epochs, loss, 'bo', label='Traning loss')\n",
        "plt.plot(epochs, val_loss, 'b', label='Validation loss')\n",
        "plt.title('Training and validation loss')\n",
        "plt.legend()\n",
        "\n",
        "plt.figure();"
      ],
      "execution_count": null,
      "outputs": [
        {
          "output_type": "display_data",
          "data": {
            "image/png": "[encoded data removed]",
            "text/plain": [
              "<Figure size 432x288 with 1 Axes>"
            ]
          },
          "metadata": {
            "tags": [],
            "needs_background": "light"
          }
        },
        {
          "output_type": "display_data",
          "data": {
            "image/png": "[encoded data removed]",
            "text/plain": [
              "<Figure size 432x288 with 1 Axes>"
            ]
          },
          "metadata": {
            "tags": [],
            "needs_background": "light"
          }
        },
        {
          "output_type": "display_data",
          "data": {
            "text/plain": [
              "<Figure size 432x288 with 0 Axes>"
            ]
          },
          "metadata": {
            "tags": []
          }
        }
      ]
    },
    {
      "cell_type": "markdown",
      "metadata": {
        "id": "YCVvTrcEqFnw"
      },
      "source": [
        "The plots are comparing training accuracy with validation accuracy and training loss with validation loss. The plots are normal and are trained well because the loss is coming down and the accuracy is increasing with the number of epoch. However, the huge downfall in validation accuracy and the spike in validation loss around 17 epoch is because of seeing a longer sentence which is not seen before. It is different each time we run the notebook because we are shuffling the data. It's not usually like this."
      ]
    },
    {
      "cell_type": "markdown",
      "metadata": {
        "id": "0JaFBzPKb5PT"
      },
      "source": [
        "### Test LSTM translation output"
      ]
    },
    {
      "cell_type": "code",
      "metadata": {
        "colab": {
          "base_uri": "https://localhost:8080/"
        },
        "id": "mgoDh9Svb72i",
        "outputId": "3548d546-165a-4913-80bd-f3aa42919f22"
      },
      "source": [
        "score2 = BLEU_score(model2)\n",
        "print('BLEU score for model: {:.2f}'.format(score2))"
      ],
      "execution_count": null,
      "outputs": [
        {
          "output_type": "stream",
          "text": [
            "BLEU score for model: 0.45\n"
          ],
          "name": "stdout"
        }
      ]
    },
    {
      "cell_type": "code",
      "metadata": {
        "colab": {
          "base_uri": "https://localhost:8080/"
        },
        "id": "mH609V5g93HD",
        "outputId": "1ba95c51-0758-431f-b903-99ddbcad9962"
      },
      "source": [
        "# Visualize some translations\n",
        "visualize_translation(model2, 40)"
      ],
      "execution_count": null,
      "outputs": [
        {
          "output_type": "stream",
          "text": [
            "Target=[we have to be at work by nine], Prediction[we have to get home home nine]\n",
            "Target=[its just your imagination], Prediction[its only your your]\n",
            "Target=[i dont want to see you here again], Prediction[i dont want to see you again]\n",
            "Target=[hes a doctor of good reputation], Prediction[its is doctor a strange]\n",
            "Target=[it looks like mary is drunk again], Prediction[i said tom was in]\n",
            "Target=[tom also has plans to go there], Prediction[tom has to go to go there]\n",
            "Target=[i did nothing during the holidays], Prediction[i didnt sleep tom on]\n",
            "Target=[the plane arrived exactly at nine], Prediction[the plane came closed at ten]\n",
            "Target=[you must think this is funny], Prediction[you must think tom is funny]\n",
            "Target=[he claims that he is a painter], Prediction[speaking is the is is]\n",
            "Target=[i need to get something for tom], Prediction[i need to ask tom tom]\n",
            "Target=[one of the girls was left behind], Prediction[a of were grow at]\n",
            "Target=[whats your favorite number], Prediction[whats your favorite pastime]\n",
            "Target=[tom hasnt been here since monday], Prediction[tom didnt wait on monday monday]\n",
            "Target=[you may talk as much as you like], Prediction[i can get as you want want]\n",
            "Target=[i met a canadian man named tom], Prediction[i met a a fake named]\n",
            "Target=[tom doesnt really like you much], Prediction[tom doesnt like like for angry]\n",
            "Target=[you were right after all], Prediction[we were right after all]\n",
            "Target=[are you sure you want that one], Prediction[are you sure you to that that]\n",
            "Target=[he wants to learn to swim], Prediction[he wants to learn to swim]\n",
            "Target=[i like this coat may i try it on], Prediction[i like my wife my wife]\n",
            "Target=[i knew you were behind this], Prediction[i knew you were behind her]\n",
            "Target=[her garden is a work of art], Prediction[his garden is is on the art art]\n",
            "Target=[dinner is probably ready by now], Prediction[i think the the first now]\n",
            "Target=[your screams frightened me], Prediction[your screams will your]\n",
            "Target=[she likes to dress up as a nurse], Prediction[she likes like on a a]\n",
            "Target=[could you call me tonight please], Prediction[could you please tom singing]\n",
            "Target=[he was lying on the grass], Prediction[he was swimming on the grass]\n",
            "Target=[mary is loyal to her country], Prediction[mary is loyal to the country]\n",
            "Target=[this is all i want to do], Prediction[thats is i i want to do]\n",
            "Target=[ill take care of the horses], Prediction[i will forget with the]\n",
            "Target=[that is out of the question], Prediction[its out of the question]\n",
            "Target=[ill get fired if they find out], Prediction[i can do you you for you]\n",
            "Target=[this does not make me happy], Prediction[you doesnt like me happy]\n",
            "Target=[i actually tried to do that once], Prediction[i had have to do it again]\n",
            "Target=[wet clothes stick to your skin], Prediction[the often the on the]\n",
            "Target=[tom has many things to do today], Prediction[tom has a had to do today]\n",
            "Target=[tom lived in japan for ten years], Prediction[tom lived home on on ten]\n",
            "Target=[he seems to have missed the point], Prediction[he really like but but]\n",
            "Target=[the land had never been ploughed], Prediction[he never never ever to]\n"
          ],
          "name": "stdout"
        }
      ]
    },
    {
      "cell_type": "markdown",
      "metadata": {
        "id": "l7GtRFqW4txI"
      },
      "source": [
        "##Build GRU model"
      ]
    },
    {
      "cell_type": "code",
      "metadata": {
        "colab": {
          "base_uri": "https://localhost:8080/"
        },
        "id": "tuwl0pJuBQrW",
        "outputId": "c0cc0ad8-4a7a-44b0-ddde-d7117c3d0394"
      },
      "source": [
        "embeded_size = 150\n",
        "\n",
        "model3 = Sequential()\n",
        "\n",
        "model3.add(Embedding(spa_vocab, embeded_size, input_length=spa_len))\n",
        "model3.add(GRU(300))\n",
        "model3.add(BatchNormalization())\n",
        "model3.add(RepeatVector(eng_len))\n",
        "model3.add(Bidirectional(GRU(200, return_sequences=True, kernel_regularizer=regularizers.l2(0.001))))\n",
        "model3.add(BatchNormalization())\n",
        "model3.add(TimeDistributed(Dense(eng_vocab, activation='softmax')))\n",
        "\n",
        "model3.summary()"
      ],
      "execution_count": null,
      "outputs": [
        {
          "output_type": "stream",
          "text": [
            "Model: \"sequential_2\"\n",
            "_________________________________________________________________\n",
            "Layer (type)                 Output Shape              Param #   \n",
            "=================================================================\n",
            "embedding_2 (Embedding)      (None, 14, 150)           1582350   \n",
            "_________________________________________________________________\n",
            "gru (GRU)                    (None, 300)               406800    \n",
            "_________________________________________________________________\n",
            "batch_normalization_6 (Batch (None, 300)               1200      \n",
            "_________________________________________________________________\n",
            "repeat_vector_3 (RepeatVecto (None, 10, 300)           0         \n",
            "_________________________________________________________________\n",
            "bidirectional_1 (Bidirection (None, 10, 400)           602400    \n",
            "_________________________________________________________________\n",
            "batch_normalization_7 (Batch (None, 10, 400)           1600      \n",
            "_________________________________________________________________\n",
            "time_distributed_2 (TimeDist (None, 10, 6461)          2590861   \n",
            "=================================================================\n",
            "Total params: 5,185,211\n",
            "Trainable params: 5,183,811\n",
            "Non-trainable params: 1,400\n",
            "_________________________________________________________________\n"
          ],
          "name": "stdout"
        }
      ]
    },
    {
      "cell_type": "markdown",
      "metadata": {
        "id": "WW90rmD5DksO"
      },
      "source": [
        "The GRU model is a Sequential model, the first layer \"Embedding\" is converting the word represented with the ID into embedding. The third layer is Batch Normalization; it is used to rescale the data effectively, normally used instead of Dropout. The repeat_vector layer repeats the inputs n times which influences the shape of input data. In the Bidirectional layer, we used regularizers norm L2. Lastly, using 'softmax' as an activation. \n",
        " \n",
        "When constructing this model we tried using Dropout because it would overfit early on, but when using dropout the model would lose data that needed to train on. So we used a regularizer norm L2 to help with the overfitting, which provided better results. "
      ]
    },
    {
      "cell_type": "markdown",
      "metadata": {
        "id": "JI8RUQj44vnQ"
      },
      "source": [
        "###Train GRU"
      ]
    },
    {
      "cell_type": "markdown",
      "metadata": {
        "id": "qOCiVslsWAZg"
      },
      "source": [
        "In this moodel we're using earlystopping to monitor 'val_loss' with patience of 5."
      ]
    },
    {
      "cell_type": "code",
      "metadata": {
        "colab": {
          "base_uri": "https://localhost:8080/"
        },
        "id": "oTtTz2CgCAlT",
        "outputId": "423cdc78-a6b7-41a8-a2da-20ae36ed7a3b"
      },
      "source": [
        "model3.compile(optimizer='adam', \n",
        "              loss='categorical_crossentropy', \n",
        "              metrics=['accuracy'])\n",
        "callbacks = [EarlyStopping(monitor='val_loss', patience=5)]\n",
        "\n",
        "\n",
        "history3 = model3.fit(train_x, \n",
        "                    train_y, \n",
        "                    epochs=30, \n",
        "                    batch_size=32,\n",
        "                    callbacks = callbacks,\n",
        "                    validation_data=(test_x, test_y))"
      ],
      "execution_count": null,
      "outputs": [
        {
          "output_type": "stream",
          "text": [
            "Epoch 1/30\n",
            "1250/1250 [==============================] - 34s 24ms/step - loss: 3.6204 - accuracy: 0.5082 - val_loss: 3.0606 - val_accuracy: 0.5184\n",
            "Epoch 2/30\n",
            "1250/1250 [==============================] - 29s 23ms/step - loss: 1.6985 - accuracy: 0.6598 - val_loss: 2.2271 - val_accuracy: 0.6062\n",
            "Epoch 3/30\n",
            "1250/1250 [==============================] - 29s 23ms/step - loss: 1.0825 - accuracy: 0.7503 - val_loss: 1.9792 - val_accuracy: 0.6479\n",
            "Epoch 4/30\n",
            "1250/1250 [==============================] - 28s 23ms/step - loss: 0.8118 - accuracy: 0.8055 - val_loss: 1.9326 - val_accuracy: 0.6736\n",
            "Epoch 5/30\n",
            "1250/1250 [==============================] - 29s 23ms/step - loss: 0.6461 - accuracy: 0.8433 - val_loss: 1.9213 - val_accuracy: 0.6835\n",
            "Epoch 6/30\n",
            "1250/1250 [==============================] - 28s 23ms/step - loss: 0.5417 - accuracy: 0.8689 - val_loss: 1.9284 - val_accuracy: 0.6987\n",
            "Epoch 7/30\n",
            "1250/1250 [==============================] - 29s 23ms/step - loss: 0.4769 - accuracy: 0.8847 - val_loss: 1.9630 - val_accuracy: 0.7033\n",
            "Epoch 8/30\n",
            "1250/1250 [==============================] - 28s 23ms/step - loss: 0.4256 - accuracy: 0.8984 - val_loss: 1.9737 - val_accuracy: 0.7132\n",
            "Epoch 9/30\n",
            "1250/1250 [==============================] - 28s 22ms/step - loss: 0.3823 - accuracy: 0.9093 - val_loss: 1.9872 - val_accuracy: 0.7153\n",
            "Epoch 10/30\n",
            "1250/1250 [==============================] - 29s 23ms/step - loss: 0.3575 - accuracy: 0.9163 - val_loss: 1.9694 - val_accuracy: 0.7230\n"
          ],
          "name": "stdout"
        }
      ]
    },
    {
      "cell_type": "markdown",
      "metadata": {
        "id": "fBoboCTr5DsA"
      },
      "source": [
        "###Plot loss and Accuracy "
      ]
    },
    {
      "cell_type": "code",
      "metadata": {
        "colab": {
          "base_uri": "https://localhost:8080/",
          "height": 562
        },
        "id": "5xOH6JnSHaq2",
        "outputId": "6bd442d6-d62c-4d61-b00e-e90959e47a89"
      },
      "source": [
        "acc = history3.history['accuracy']\n",
        "val_acc = history3.history['val_accuracy']\n",
        "loss = history3.history['loss']\n",
        "val_loss = history3.history['val_loss']\n",
        "\n",
        "epochs = range(1, len(acc) + 1)\n",
        "\n",
        "plt.plot(epochs, acc, 'bo', label='Training acc')\n",
        "plt.plot(epochs, val_acc, 'b', label='Validation acc')\n",
        "plt.title('Training and validation accuracy')\n",
        "plt.legend()\n",
        "\n",
        "plt.figure()\n",
        "\n",
        "plt.plot(epochs, loss, 'bo', label='Traning loss')\n",
        "plt.plot(epochs, val_loss, 'b', label='Validation loss')\n",
        "plt.title('Training and validation loss')\n",
        "plt.legend()\n",
        "\n",
        "plt.figure();"
      ],
      "execution_count": null,
      "outputs": [
        {
          "output_type": "display_data",
          "data": {
            "image/png": "[encoded data removed]",
            "text/plain": [
              "<Figure size 432x288 with 1 Axes>"
            ]
          },
          "metadata": {
            "tags": [],
            "needs_background": "light"
          }
        },
        {
          "output_type": "display_data",
          "data": {
            "image/png": "[encoded data removed]",
            "text/plain": [
              "<Figure size 432x288 with 1 Axes>"
            ]
          },
          "metadata": {
            "tags": [],
            "needs_background": "light"
          }
        },
        {
          "output_type": "display_data",
          "data": {
            "text/plain": [
              "<Figure size 432x288 with 0 Axes>"
            ]
          },
          "metadata": {
            "tags": []
          }
        }
      ]
    },
    {
      "cell_type": "markdown",
      "metadata": {
        "id": "6NJxS4LrWPsx"
      },
      "source": [
        "From the plots of 'Training and validation loss' we can conclude that the model is training poorly. It looks like there is some overfitting with the validation loss because it decreases to a point and begins increasing again, but it is not a huge decrease. Most telling is that the training and validation loss are visually separating. "
      ]
    },
    {
      "cell_type": "markdown",
      "metadata": {
        "id": "VVl6W-rf43j0"
      },
      "source": [
        "### Test GRU translation output"
      ]
    },
    {
      "cell_type": "code",
      "metadata": {
        "colab": {
          "base_uri": "https://localhost:8080/"
        },
        "id": "Af-w8u3OI-NP",
        "outputId": "e5d60ae5-bb95-421c-e5ca-60fd779bbfe9"
      },
      "source": [
        "score3 = BLEU_score(model3)\n",
        "print('BLEU score for model: {:.2f}'.format(score3))"
      ],
      "execution_count": null,
      "outputs": [
        {
          "output_type": "stream",
          "text": [
            "BLEU score for model: 0.55\n"
          ],
          "name": "stdout"
        }
      ]
    },
    {
      "cell_type": "code",
      "metadata": {
        "colab": {
          "base_uri": "https://localhost:8080/"
        },
        "id": "wE802O4OIqb3",
        "outputId": "c4239a2c-303e-49d7-ce21-57858de481b0"
      },
      "source": [
        "visualize_translation(model3, 40)"
      ],
      "execution_count": null,
      "outputs": [
        {
          "output_type": "stream",
          "text": [
            "Target=[we have to be at work by nine], Prediction[we have to get at at at nine]\n",
            "Target=[its just your imagination], Prediction[its only your imagination]\n",
            "Target=[i dont want to see you here again], Prediction[i dont want to see you early]\n",
            "Target=[hes a doctor of good reputation], Prediction[he the doctor of good reputation reputation]\n",
            "Target=[it looks like mary is drunk again], Prediction[this looks that is understand over]\n",
            "Target=[tom also has plans to go there], Prediction[tom has has go to go there]\n",
            "Target=[i did nothing during the holidays], Prediction[i didnt let it on]\n",
            "Target=[the plane arrived exactly at nine], Prediction[the plane came at at nine]\n",
            "Target=[you must think this is funny], Prediction[you must think this is funny]\n",
            "Target=[he claims that he is a painter], Prediction[he said he to a a]\n",
            "Target=[i need to get something for tom], Prediction[i need something to tom tom]\n",
            "Target=[one of the girls was left behind], Prediction[one leave the girls was was behind]\n",
            "Target=[whats your favorite number], Prediction[whats your favorite number]\n",
            "Target=[tom hasnt been here since monday], Prediction[tom hasnt been here monday]\n",
            "Target=[you may talk as much as you like], Prediction[you can swim as as as was]\n",
            "Target=[i met a canadian man named tom], Prediction[i met a canadian man tom tom]\n",
            "Target=[tom doesnt really like you much], Prediction[tom doesnt do you very much]\n",
            "Target=[you were right after all], Prediction[you were right after all all]\n",
            "Target=[are you sure you want that one], Prediction[are you still that want want that that]\n",
            "Target=[he wants to learn to swim], Prediction[he wants to learn to swim swim]\n",
            "Target=[i like this coat may i try it on], Prediction[i like a car of my]\n",
            "Target=[i knew you were behind this], Prediction[i knew he were behind this]\n",
            "Target=[her garden is a work of art], Prediction[his garden is a cloud of art]\n",
            "Target=[dinner is probably ready by now], Prediction[when will bored this this]\n",
            "Target=[your screams frightened me], Prediction[your screams frightened me]\n",
            "Target=[she likes to dress up as a nurse], Prediction[she likes likes to a a]\n",
            "Target=[could you call me tonight please], Prediction[could you please this please please]\n",
            "Target=[he was lying on the grass], Prediction[he was lying on the grass]\n",
            "Target=[mary is loyal to her country], Prediction[mary is loyal to her country]\n",
            "Target=[this is all i want to do], Prediction[this is all i want to do]\n",
            "Target=[ill take care of the horses], Prediction[i will look like the dog]\n",
            "Target=[that is out of the question], Prediction[its out of the question]\n",
            "Target=[ill get fired if they find out], Prediction[i soon it it if chew]\n",
            "Target=[this does not make me happy], Prediction[this makes make me happy]\n",
            "Target=[i actually tried to do that once], Prediction[i will feel to to it it]\n",
            "Target=[wet clothes stick to your skin], Prediction[the skin is wet skin wet]\n",
            "Target=[tom has many things to do today], Prediction[tom has many lot to do today]\n",
            "Target=[tom lived in japan for ten years], Prediction[tom lived lived in years years]\n",
            "Target=[he seems to have missed the point], Prediction[tom seems not true]\n",
            "Target=[the land had never been ploughed], Prediction[the man never been been]\n"
          ],
          "name": "stdout"
        }
      ]
    },
    {
      "cell_type": "markdown",
      "metadata": {
        "id": "xFyFfIE8Nx30"
      },
      "source": [
        "## Build Additive Attention model"
      ]
    },
    {
      "cell_type": "code",
      "metadata": {
        "colab": {
          "base_uri": "https://localhost:8080/"
        },
        "id": "8ooMDBTdN14N",
        "outputId": "a0d49a68-a32b-44c6-a892-035ba8d2825b"
      },
      "source": [
        "pip install keras-self-attention"
      ],
      "execution_count": null,
      "outputs": [
        {
          "output_type": "stream",
          "text": [
            "Collecting keras-self-attention\n",
            "  Downloading https://files.pythonhosted.org/packages/39/0d/b8ab8469ae55cea199574f4d2c30da4656d310a833a67bb422ad8a056bf0/keras-self-attention-0.47.0.tar.gz\n",
            "Requirement already satisfied: numpy in /usr/local/lib/python3.6/dist-packages (from keras-self-attention) (1.19.4)\n",
            "Requirement already satisfied: Keras in /usr/local/lib/python3.6/dist-packages (from keras-self-attention) (2.4.3)\n",
            "Requirement already satisfied: h5py in /usr/local/lib/python3.6/dist-packages (from Keras->keras-self-attention) (2.10.0)\n",
            "Requirement already satisfied: pyyaml in /usr/local/lib/python3.6/dist-packages (from Keras->keras-self-attention) (3.13)\n",
            "Requirement already satisfied: scipy>=0.14 in /usr/local/lib/python3.6/dist-packages (from Keras->keras-self-attention) (1.4.1)\n",
            "Requirement already satisfied: six in /usr/local/lib/python3.6/dist-packages (from h5py->Keras->keras-self-attention) (1.15.0)\n",
            "Building wheels for collected packages: keras-self-attention\n",
            "  Building wheel for keras-self-attention (setup.py) ... \u001b[?25l\u001b[?25hdone\n",
            "  Created wheel for keras-self-attention: filename=keras_self_attention-0.47.0-cp36-none-any.whl size=17290 sha256=e965646b47bebc6335078ffcc3ead37bcddf6a5efdd48828aa7ce0e014f8c00d\n",
            "  Stored in directory: /root/.cache/pip/wheels/70/87/01/76c703d5401b65e323927c1fdc665f3fb143282ff67d71e859\n",
            "Successfully built keras-self-attention\n",
            "Installing collected packages: keras-self-attention\n",
            "Successfully installed keras-self-attention-0.47.0\n"
          ],
          "name": "stdout"
        }
      ]
    },
    {
      "cell_type": "code",
      "metadata": {
        "id": "OhM-VVFB6qqK"
      },
      "source": [
        "from keras_self_attention import SeqSelfAttention"
      ],
      "execution_count": null,
      "outputs": []
    },
    {
      "cell_type": "code",
      "metadata": {
        "id": "d8siAj9e6vcA"
      },
      "source": [
        "#  Bahdanau // Additive\n",
        "embeded_size = 150\n",
        "\n",
        "model4 = Sequential()\n",
        "\n",
        "model4.add(Embedding(spa_vocab, embeded_size, input_length=spa_len))\n",
        "model4.add(BatchNormalization())\n",
        "model4.add(LSTM(300))\n",
        "model4.add(BatchNormalization())\n",
        "model4.add(RepeatVector(eng_len))\n",
        "model4.add(SeqSelfAttention(attention_activation='sigmoid'))\n",
        "model4.add(Bidirectional(LSTM(300, return_sequences=True)))\n",
        "model4.add(BatchNormalization())\n",
        "model4.add(TimeDistributed(Dense(eng_vocab, activation='softmax')))"
      ],
      "execution_count": null,
      "outputs": []
    },
    {
      "cell_type": "code",
      "metadata": {
        "colab": {
          "base_uri": "https://localhost:8080/"
        },
        "id": "aD29pVtq7t49",
        "outputId": "37dee41c-361f-435a-a1e7-d34bd3acac4e"
      },
      "source": [
        "model4.summary()"
      ],
      "execution_count": null,
      "outputs": [
        {
          "output_type": "stream",
          "text": [
            "Model: \"sequential_3\"\n",
            "_________________________________________________________________\n",
            "Layer (type)                 Output Shape              Param #   \n",
            "=================================================================\n",
            "embedding_3 (Embedding)      (None, 14, 150)           1582350   \n",
            "_________________________________________________________________\n",
            "batch_normalization_8 (Batch (None, 14, 150)           600       \n",
            "_________________________________________________________________\n",
            "lstm_3 (LSTM)                (None, 300)               541200    \n",
            "_________________________________________________________________\n",
            "batch_normalization_9 (Batch (None, 300)               1200      \n",
            "_________________________________________________________________\n",
            "repeat_vector_4 (RepeatVecto (None, 10, 300)           0         \n",
            "_________________________________________________________________\n",
            "seq_self_attention (SeqSelfA (None, None, 300)         19265     \n",
            "_________________________________________________________________\n",
            "bidirectional_2 (Bidirection (None, None, 600)         1442400   \n",
            "_________________________________________________________________\n",
            "batch_normalization_10 (Batc (None, None, 600)         2400      \n",
            "_________________________________________________________________\n",
            "time_distributed_3 (TimeDist (None, None, 6461)        3883061   \n",
            "=================================================================\n",
            "Total params: 7,472,476\n",
            "Trainable params: 7,470,376\n",
            "Non-trainable params: 2,100\n",
            "_________________________________________________________________\n"
          ],
          "name": "stdout"
        }
      ]
    },
    {
      "cell_type": "markdown",
      "metadata": {
        "id": "kTEnGJJZtFf8"
      },
      "source": [
        "For our first approach with using an Attention model we decided to use the attention mechanism introduced by Bahdanau (Additive Attention). This approach was the first attention mechanism to exist. It works by giving the decoder a way to “pay attention” to parts of the input, rather than relying on a single vector. Basically, for every step in the decoder process the attention can select a different part of the input sentence to consider. \r\n",
        " \r\n",
        "We found it very difficult in trying to implement attention into a model. Most of the examples that existed were constructed with non-sequential models. A lot of time was spent trying to figure out a way to make this approach possible. We ended up finding a source that provides a means to implement attention in a sequential manner. \r\n",
        " \r\n",
        "Source: https://github.com/CyberZHG/keras-self-attention"
      ]
    },
    {
      "cell_type": "markdown",
      "metadata": {
        "id": "5lXn5k26bVv1"
      },
      "source": [
        "### Train model"
      ]
    },
    {
      "cell_type": "code",
      "metadata": {
        "id": "8smvPaL-bXOL"
      },
      "source": [
        "model4.compile(optimizer='adam', \n",
        "              loss='categorical_crossentropy', \n",
        "              metrics=['accuracy'])"
      ],
      "execution_count": null,
      "outputs": []
    },
    {
      "cell_type": "code",
      "metadata": {
        "colab": {
          "base_uri": "https://localhost:8080/"
        },
        "id": "Rfqk5aiW69iO",
        "outputId": "d6d100d2-2674-4edf-f028-e167678af05f"
      },
      "source": [
        "%%time\n",
        "history4 = model4.fit(train_x, \n",
        "                    train_y, \n",
        "                    epochs=30, \n",
        "                    batch_size=32, \n",
        "                    validation_data=(test_x, test_y))"
      ],
      "execution_count": null,
      "outputs": [
        {
          "output_type": "stream",
          "text": [
            "Epoch 1/30\n",
            "1250/1250 [==============================] - 36s 26ms/step - loss: 3.2637 - accuracy: 0.5223 - val_loss: 3.3188 - val_accuracy: 0.4605\n",
            "Epoch 2/30\n",
            "1250/1250 [==============================] - 31s 25ms/step - loss: 1.3383 - accuracy: 0.6946 - val_loss: 2.0639 - val_accuracy: 0.6189\n",
            "Epoch 3/30\n",
            "1250/1250 [==============================] - 31s 25ms/step - loss: 0.8073 - accuracy: 0.7921 - val_loss: 1.9725 - val_accuracy: 0.6557\n",
            "Epoch 4/30\n",
            "1250/1250 [==============================] - 31s 25ms/step - loss: 0.5603 - accuracy: 0.8494 - val_loss: 1.8334 - val_accuracy: 0.6847\n",
            "Epoch 5/30\n",
            "1250/1250 [==============================] - 31s 25ms/step - loss: 0.4080 - accuracy: 0.8882 - val_loss: 1.8660 - val_accuracy: 0.6985\n",
            "Epoch 6/30\n",
            "1250/1250 [==============================] - 31s 25ms/step - loss: 0.3130 - accuracy: 0.9132 - val_loss: 1.8987 - val_accuracy: 0.7169\n",
            "Epoch 7/30\n",
            "1250/1250 [==============================] - 31s 25ms/step - loss: 0.2560 - accuracy: 0.9277 - val_loss: 2.0034 - val_accuracy: 0.7221\n",
            "Epoch 8/30\n",
            "1250/1250 [==============================] - 32s 25ms/step - loss: 0.2120 - accuracy: 0.9405 - val_loss: 2.0241 - val_accuracy: 0.7299\n",
            "Epoch 9/30\n",
            "1250/1250 [==============================] - 32s 25ms/step - loss: 0.1815 - accuracy: 0.9490 - val_loss: 2.0256 - val_accuracy: 0.7375\n",
            "Epoch 10/30\n",
            "1250/1250 [==============================] - 31s 25ms/step - loss: 0.1555 - accuracy: 0.9562 - val_loss: 2.0648 - val_accuracy: 0.7334\n",
            "Epoch 11/30\n",
            "1250/1250 [==============================] - 31s 25ms/step - loss: 0.1415 - accuracy: 0.9595 - val_loss: 2.0803 - val_accuracy: 0.7433\n",
            "Epoch 12/30\n",
            "1250/1250 [==============================] - 31s 25ms/step - loss: 0.1256 - accuracy: 0.9647 - val_loss: 2.1194 - val_accuracy: 0.7480\n",
            "Epoch 13/30\n",
            "1250/1250 [==============================] - 31s 25ms/step - loss: 0.1135 - accuracy: 0.9679 - val_loss: 2.1561 - val_accuracy: 0.7506\n",
            "Epoch 14/30\n",
            "1250/1250 [==============================] - 31s 25ms/step - loss: 0.1069 - accuracy: 0.9701 - val_loss: 2.1582 - val_accuracy: 0.7510\n",
            "Epoch 15/30\n",
            "1250/1250 [==============================] - 31s 25ms/step - loss: 0.0943 - accuracy: 0.9729 - val_loss: 2.1608 - val_accuracy: 0.7541\n",
            "Epoch 16/30\n",
            "1250/1250 [==============================] - 31s 24ms/step - loss: 0.0883 - accuracy: 0.9750 - val_loss: 2.2470 - val_accuracy: 0.7544\n",
            "Epoch 17/30\n",
            "1250/1250 [==============================] - 31s 25ms/step - loss: 0.0871 - accuracy: 0.9751 - val_loss: 2.2119 - val_accuracy: 0.7568\n",
            "Epoch 18/30\n",
            "1250/1250 [==============================] - 31s 25ms/step - loss: 0.0779 - accuracy: 0.9780 - val_loss: 2.2637 - val_accuracy: 0.7541\n",
            "Epoch 19/30\n",
            "1250/1250 [==============================] - 31s 25ms/step - loss: 0.0763 - accuracy: 0.9779 - val_loss: 2.2783 - val_accuracy: 0.7560\n",
            "Epoch 20/30\n",
            "1250/1250 [==============================] - 32s 25ms/step - loss: 0.0699 - accuracy: 0.9797 - val_loss: 2.2469 - val_accuracy: 0.7563\n",
            "Epoch 21/30\n",
            "1250/1250 [==============================] - 31s 25ms/step - loss: 0.0687 - accuracy: 0.9801 - val_loss: 2.2437 - val_accuracy: 0.7592\n",
            "Epoch 22/30\n",
            "1250/1250 [==============================] - 31s 25ms/step - loss: 0.0667 - accuracy: 0.9800 - val_loss: 2.2870 - val_accuracy: 0.7601\n",
            "Epoch 23/30\n",
            "1250/1250 [==============================] - 31s 25ms/step - loss: 0.0613 - accuracy: 0.9823 - val_loss: 2.3019 - val_accuracy: 0.7590\n",
            "Epoch 24/30\n",
            "1250/1250 [==============================] - 31s 25ms/step - loss: 0.0624 - accuracy: 0.9817 - val_loss: 2.3264 - val_accuracy: 0.7619\n",
            "Epoch 25/30\n",
            "1250/1250 [==============================] - 31s 25ms/step - loss: 0.0575 - accuracy: 0.9828 - val_loss: 2.3107 - val_accuracy: 0.7624\n",
            "Epoch 26/30\n",
            "1250/1250 [==============================] - 31s 25ms/step - loss: 0.0560 - accuracy: 0.9836 - val_loss: 2.3426 - val_accuracy: 0.7644\n",
            "Epoch 27/30\n",
            "1250/1250 [==============================] - 31s 25ms/step - loss: 0.0522 - accuracy: 0.9846 - val_loss: 2.3725 - val_accuracy: 0.7612\n",
            "Epoch 28/30\n",
            "1250/1250 [==============================] - 31s 25ms/step - loss: 0.0548 - accuracy: 0.9833 - val_loss: 2.3497 - val_accuracy: 0.7610\n",
            "Epoch 29/30\n",
            "1250/1250 [==============================] - 32s 25ms/step - loss: 0.0521 - accuracy: 0.9842 - val_loss: 2.3718 - val_accuracy: 0.7643\n",
            "Epoch 30/30\n",
            "1250/1250 [==============================] - 31s 25ms/step - loss: 0.0477 - accuracy: 0.9854 - val_loss: 2.3713 - val_accuracy: 0.7647\n",
            "CPU times: user 29min 38s, sys: 2min 1s, total: 31min 40s\n",
            "Wall time: 15min 38s\n"
          ],
          "name": "stdout"
        }
      ]
    },
    {
      "cell_type": "markdown",
      "metadata": {
        "id": "ye8JBxtwbX2e"
      },
      "source": [
        "### Plot loss and accuracy"
      ]
    },
    {
      "cell_type": "code",
      "metadata": {
        "colab": {
          "base_uri": "https://localhost:8080/",
          "height": 562
        },
        "id": "z7pHzNurbb8h",
        "outputId": "0e27d382-25e6-404a-e24a-a4338383b482"
      },
      "source": [
        "acc = history4.history['accuracy']\n",
        "val_acc = history4.history['val_accuracy']\n",
        "loss = history4.history['loss']\n",
        "val_loss = history4.history['val_loss']\n",
        "\n",
        "epochs = range(1, len(acc) + 1)\n",
        "\n",
        "plt.plot(epochs, acc, 'bo', label='Training acc')\n",
        "plt.plot(epochs, val_acc, 'b', label='Validation acc')\n",
        "plt.title('Training and validation accuracy')\n",
        "plt.legend()\n",
        "\n",
        "plt.figure()\n",
        "\n",
        "plt.plot(epochs, loss, 'bo', label='Traning loss')\n",
        "plt.plot(epochs, val_loss, 'b', label='Validation loss')\n",
        "plt.title('Training and validation loss')\n",
        "plt.legend()\n",
        "\n",
        "plt.figure();"
      ],
      "execution_count": null,
      "outputs": [
        {
          "output_type": "display_data",
          "data": {
            "image/png": "[encoded data removed]",
            "text/plain": [
              "<Figure size 432x288 with 1 Axes>"
            ]
          },
          "metadata": {
            "tags": [],
            "needs_background": "light"
          }
        },
        {
          "output_type": "display_data",
          "data": {
            "image/png": "[encoded data removed]",
            "text/plain": [
              "<Figure size 432x288 with 1 Axes>"
            ]
          },
          "metadata": {
            "tags": [],
            "needs_background": "light"
          }
        },
        {
          "output_type": "display_data",
          "data": {
            "text/plain": [
              "<Figure size 432x288 with 0 Axes>"
            ]
          },
          "metadata": {
            "tags": []
          }
        }
      ]
    },
    {
      "cell_type": "markdown",
      "metadata": {
        "id": "aCFMqvZ0volG"
      },
      "source": [
        "After conducting many tests we felt that the perfect amount of epochs was 30. This allowed us to achieve high BLEU scores, but also limit the amount of overfitting. We noticed that overfitting was not necessarily indicative of poor translations. Although, if we tried to train for over 50 epochs, then overfitting would indeed adversely affect the BLEU score. So overfitting was okay to some degree. "
      ]
    },
    {
      "cell_type": "markdown",
      "metadata": {
        "id": "xFJ7_PdGb-8R"
      },
      "source": [
        "### Test Attention translation output"
      ]
    },
    {
      "cell_type": "code",
      "metadata": {
        "colab": {
          "base_uri": "https://localhost:8080/"
        },
        "id": "OAgSsyUZcBtr",
        "outputId": "4e347bee-93ab-41b9-ef91-c3f7688aad2e"
      },
      "source": [
        "score4 = BLEU_score(model4)\r\n",
        "print('BLEU score for model: {:.2f}'.format(score4))"
      ],
      "execution_count": null,
      "outputs": [
        {
          "output_type": "stream",
          "text": [
            "BLEU score for model: 0.65\n"
          ],
          "name": "stdout"
        }
      ]
    },
    {
      "cell_type": "code",
      "metadata": {
        "colab": {
          "base_uri": "https://localhost:8080/"
        },
        "id": "BMIFEAMZ9RRa",
        "outputId": "7843d05f-0893-471a-de82-b0a4ece1d54c"
      },
      "source": [
        "# Visualize some translations\n",
        "visualize_translation(model4, 40)"
      ],
      "execution_count": null,
      "outputs": [
        {
          "output_type": "stream",
          "text": [
            "Target=[we have to be at work by nine], Prediction[we have to be at work by nine]\n",
            "Target=[its just your imagination], Prediction[its only your imagination]\n",
            "Target=[i dont want to see you here again], Prediction[i dont want to see you again]\n",
            "Target=[hes a doctor of good reputation], Prediction[hes a doctor of good reputation]\n",
            "Target=[it looks like mary is drunk again], Prediction[it seems that shes is again]\n",
            "Target=[tom also has plans to go there], Prediction[tom also has plans to go there go]\n",
            "Target=[i did nothing during the holidays], Prediction[i didnt grow in on face]\n",
            "Target=[the plane arrived exactly at nine], Prediction[the plane hid exactly at]\n",
            "Target=[you must think this is funny], Prediction[you must think this is funny]\n",
            "Target=[he claims that he is a painter], Prediction[he claims that he is a]\n",
            "Target=[i need to get something for tom], Prediction[i need to hear tom something]\n",
            "Target=[one of the girls was left behind], Prediction[one of the girls was left behind]\n",
            "Target=[whats your favorite number], Prediction[whats your favorite number]\n",
            "Target=[tom hasnt been here since monday], Prediction[tom hasnt come here on monday]\n",
            "Target=[you may talk as much as you like], Prediction[you i do you hard as you]\n",
            "Target=[i met a canadian man named tom], Prediction[i met a canadian man named tom]\n",
            "Target=[tom doesnt really like you much], Prediction[tom doesnt really like you much]\n",
            "Target=[you were right after all], Prediction[you were right after all]\n",
            "Target=[are you sure you want that one], Prediction[are you sure you want that want]\n",
            "Target=[he wants to learn to swim], Prediction[he wants to learn to swim]\n",
            "Target=[i like this coat may i try it on], Prediction[i can this best piece can can]\n",
            "Target=[i knew you were behind this], Prediction[i knew you were behind this]\n",
            "Target=[her garden is a work of art], Prediction[his garden is a work of art]\n",
            "Target=[dinner is probably ready by now], Prediction[dinner dinner certainly then ready]\n",
            "Target=[your screams frightened me], Prediction[your screams frightened me]\n",
            "Target=[she likes to dress up as a nurse], Prediction[she likes her like a lot]\n",
            "Target=[could you call me tonight please], Prediction[could you please this tonight]\n",
            "Target=[he was lying on the grass], Prediction[he was lying on the grass]\n",
            "Target=[mary is loyal to her country], Prediction[mary is loyal to her country]\n",
            "Target=[this is all i want to do], Prediction[this is all i want to do]\n",
            "Target=[ill take care of the horses], Prediction[i will swimming at the]\n",
            "Target=[that is out of the question], Prediction[its out of the question]\n",
            "Target=[ill get fired if they find out], Prediction[ill know late it im too]\n",
            "Target=[this does not make me happy], Prediction[this is make me happy]\n",
            "Target=[i actually tried to do that once], Prediction[i really only to a again]\n",
            "Target=[wet clothes stick to your skin], Prediction[children clothes sells through and]\n",
            "Target=[tom has many things to do today], Prediction[tom has many things to do today]\n",
            "Target=[tom lived in japan for ten years], Prediction[tom lived lived for years years]\n",
            "Target=[he seems to have missed the point], Prediction[he judge a heavily]\n",
            "Target=[the land had never been ploughed], Prediction[the girl had been been out]\n"
          ],
          "name": "stdout"
        }
      ]
    },
    {
      "cell_type": "markdown",
      "metadata": {
        "id": "XOC5h43bRl4L"
      },
      "source": [
        "## Build Multiplicative Attention Model"
      ]
    },
    {
      "cell_type": "code",
      "metadata": {
        "id": "KoDlMv7URoBq"
      },
      "source": [
        "import keras.regularizers \n",
        "\n",
        "embeded_size = 150\n",
        "\n",
        "model5 = Sequential()\n",
        "\n",
        "model5.add(Embedding(spa_vocab, embeded_size, input_length=spa_len))\n",
        "model5.add(BatchNormalization())\n",
        "model5.add(Bidirectional(LSTM(300)))\n",
        "model5.add(BatchNormalization())\n",
        "model5.add(RepeatVector(eng_len))\n",
        "model5.add(SeqSelfAttention(attention_width=10,\n",
        "                           attention_type=SeqSelfAttention.ATTENTION_TYPE_MUL,\n",
        "                           attention_activation=None,\n",
        "                           kernel_regularizer=keras.regularizers.l2(1e-6),\n",
        "                           bias_regularizer=keras.regularizers.l1(1e-6),\n",
        "                           attention_regularizer_weight=1e-6,\n",
        "                           use_attention_bias=False,\n",
        "                           name='Attention',))\n",
        "model5.add(Bidirectional(LSTM(300, return_sequences=True)))\n",
        "model5.add(BatchNormalization())\n",
        "model5.add(TimeDistributed(Dense(eng_vocab, activation='softmax')))"
      ],
      "execution_count": null,
      "outputs": []
    },
    {
      "cell_type": "code",
      "metadata": {
        "id": "cH0ecAAsw5fA",
        "colab": {
          "base_uri": "https://localhost:8080/"
        },
        "outputId": "b3b02ffd-14b0-4781-fe22-6c2836bf46f0"
      },
      "source": [
        "model5.summary()"
      ],
      "execution_count": null,
      "outputs": [
        {
          "output_type": "stream",
          "text": [
            "Model: \"sequential_4\"\n",
            "_________________________________________________________________\n",
            "Layer (type)                 Output Shape              Param #   \n",
            "=================================================================\n",
            "embedding_4 (Embedding)      (None, 14, 150)           1582350   \n",
            "_________________________________________________________________\n",
            "batch_normalization_11 (Batc (None, 14, 150)           600       \n",
            "_________________________________________________________________\n",
            "bidirectional_3 (Bidirection (None, 600)               1082400   \n",
            "_________________________________________________________________\n",
            "batch_normalization_12 (Batc (None, 600)               2400      \n",
            "_________________________________________________________________\n",
            "repeat_vector_5 (RepeatVecto (None, 10, 600)           0         \n",
            "_________________________________________________________________\n",
            "Attention (SeqSelfAttention) (None, 10, 600)           360000    \n",
            "_________________________________________________________________\n",
            "bidirectional_4 (Bidirection (None, 10, 600)           2162400   \n",
            "_________________________________________________________________\n",
            "batch_normalization_13 (Batc (None, 10, 600)           2400      \n",
            "_________________________________________________________________\n",
            "time_distributed_4 (TimeDist (None, 10, 6461)          3883061   \n",
            "=================================================================\n",
            "Total params: 9,075,611\n",
            "Trainable params: 9,072,911\n",
            "Non-trainable params: 2,700\n",
            "_________________________________________________________________\n"
          ],
          "name": "stdout"
        }
      ]
    },
    {
      "cell_type": "markdown",
      "metadata": {
        "id": "nJFAsFAQw_nC"
      },
      "source": [
        "For our last model we decided to try and achieve the best possible BLEU score. We decided to implement a Multiplicative Attention model, which was originally introduced by Luong et al. The main difference is the attention calculation relies on the target (decoder) side hidden state and corresponding source (encode) side state, normalized over all states to get values summing to 1. This method is often referred to as a dot product between the states. The hidden states for the encoder/source, and the hidden states for the decoder/target. "
      ]
    },
    {
      "cell_type": "code",
      "metadata": {
        "id": "Yi5ZYLOqR1MW"
      },
      "source": [
        "model5.compile(optimizer='adam', \n",
        "              loss='categorical_crossentropy', \n",
        "              metrics=['accuracy'])"
      ],
      "execution_count": null,
      "outputs": []
    },
    {
      "cell_type": "code",
      "metadata": {
        "colab": {
          "base_uri": "https://localhost:8080/"
        },
        "id": "AW-P3gz-R3Fj",
        "outputId": "ff6d6c2a-2ee3-48d5-cf26-8fe8e819ea5d"
      },
      "source": [
        "history5 = model5.fit(train_x, \n",
        "                    train_y, \n",
        "                    epochs=30, \n",
        "                    batch_size=32, \n",
        "                    validation_data=(test_x, test_y))"
      ],
      "execution_count": null,
      "outputs": [
        {
          "output_type": "stream",
          "text": [
            "Epoch 1/30\n",
            "1250/1250 [==============================] - 42s 29ms/step - loss: 3.1618 - accuracy: 0.5444 - val_loss: 2.2820 - val_accuracy: 0.5821\n",
            "Epoch 2/30\n",
            "1250/1250 [==============================] - 34s 27ms/step - loss: 1.0659 - accuracy: 0.7395 - val_loss: 1.9073 - val_accuracy: 0.6471\n",
            "Epoch 3/30\n",
            "1250/1250 [==============================] - 34s 27ms/step - loss: 0.6397 - accuracy: 0.8277 - val_loss: 1.8630 - val_accuracy: 0.6888\n",
            "Epoch 4/30\n",
            "1250/1250 [==============================] - 34s 27ms/step - loss: 0.4362 - accuracy: 0.8787 - val_loss: 1.7984 - val_accuracy: 0.7119\n",
            "Epoch 5/30\n",
            "1250/1250 [==============================] - 35s 28ms/step - loss: 0.3297 - accuracy: 0.9083 - val_loss: 1.8614 - val_accuracy: 0.7230\n",
            "Epoch 6/30\n",
            "1250/1250 [==============================] - 34s 27ms/step - loss: 0.2569 - accuracy: 0.9287 - val_loss: 1.9864 - val_accuracy: 0.7324\n",
            "Epoch 7/30\n",
            "1250/1250 [==============================] - 34s 27ms/step - loss: 0.2124 - accuracy: 0.9415 - val_loss: 1.9155 - val_accuracy: 0.7453\n",
            "Epoch 8/30\n",
            "1250/1250 [==============================] - 34s 27ms/step - loss: 0.1776 - accuracy: 0.9514 - val_loss: 1.9657 - val_accuracy: 0.7448\n",
            "Epoch 9/30\n",
            "1250/1250 [==============================] - 34s 27ms/step - loss: 0.1527 - accuracy: 0.9583 - val_loss: 2.0308 - val_accuracy: 0.7521\n",
            "Epoch 10/30\n",
            "1250/1250 [==============================] - 34s 27ms/step - loss: 0.1367 - accuracy: 0.9631 - val_loss: 2.0184 - val_accuracy: 0.7554\n",
            "Epoch 11/30\n",
            "1250/1250 [==============================] - 34s 27ms/step - loss: 0.1285 - accuracy: 0.9659 - val_loss: 2.1041 - val_accuracy: 0.7557\n",
            "Epoch 12/30\n",
            "1250/1250 [==============================] - 33s 27ms/step - loss: 0.1113 - accuracy: 0.9704 - val_loss: 2.0290 - val_accuracy: 0.7565\n",
            "Epoch 13/30\n",
            "1250/1250 [==============================] - 34s 27ms/step - loss: 0.1058 - accuracy: 0.9719 - val_loss: 2.0759 - val_accuracy: 0.7547\n",
            "Epoch 14/30\n",
            "1250/1250 [==============================] - 35s 28ms/step - loss: 0.1002 - accuracy: 0.9732 - val_loss: 2.1493 - val_accuracy: 0.7596\n",
            "Epoch 15/30\n",
            "1250/1250 [==============================] - 34s 27ms/step - loss: 0.0944 - accuracy: 0.9752 - val_loss: 2.0932 - val_accuracy: 0.7614\n",
            "Epoch 16/30\n",
            "1250/1250 [==============================] - 34s 27ms/step - loss: 0.0829 - accuracy: 0.9785 - val_loss: 2.1305 - val_accuracy: 0.7625\n",
            "Epoch 17/30\n",
            "1250/1250 [==============================] - 34s 27ms/step - loss: 0.0815 - accuracy: 0.9786 - val_loss: 2.1549 - val_accuracy: 0.7629\n",
            "Epoch 18/30\n",
            "1250/1250 [==============================] - 34s 27ms/step - loss: 0.0766 - accuracy: 0.9799 - val_loss: 2.1254 - val_accuracy: 0.7650\n",
            "Epoch 19/30\n",
            "1250/1250 [==============================] - 34s 27ms/step - loss: 0.0746 - accuracy: 0.9810 - val_loss: 2.1732 - val_accuracy: 0.7637\n",
            "Epoch 20/30\n",
            "1250/1250 [==============================] - 34s 27ms/step - loss: 0.0716 - accuracy: 0.9812 - val_loss: 2.1538 - val_accuracy: 0.7617\n",
            "Epoch 21/30\n",
            "1250/1250 [==============================] - 34s 27ms/step - loss: 0.0665 - accuracy: 0.9826 - val_loss: 2.1707 - val_accuracy: 0.7635\n",
            "Epoch 22/30\n",
            "1250/1250 [==============================] - 34s 27ms/step - loss: 0.0637 - accuracy: 0.9829 - val_loss: 2.2705 - val_accuracy: 0.7632\n",
            "Epoch 23/30\n",
            "1250/1250 [==============================] - 35s 28ms/step - loss: 0.0614 - accuracy: 0.9834 - val_loss: 2.2266 - val_accuracy: 0.7669\n",
            "Epoch 24/30\n",
            "1250/1250 [==============================] - 34s 27ms/step - loss: 0.0631 - accuracy: 0.9830 - val_loss: 2.2156 - val_accuracy: 0.7673\n",
            "Epoch 25/30\n",
            "1250/1250 [==============================] - 34s 27ms/step - loss: 0.0565 - accuracy: 0.9848 - val_loss: 2.1974 - val_accuracy: 0.7678\n",
            "Epoch 26/30\n",
            "1250/1250 [==============================] - 34s 27ms/step - loss: 0.0548 - accuracy: 0.9850 - val_loss: 2.2098 - val_accuracy: 0.7668\n",
            "Epoch 27/30\n",
            "1250/1250 [==============================] - 34s 27ms/step - loss: 0.0547 - accuracy: 0.9851 - val_loss: 2.2403 - val_accuracy: 0.7687\n",
            "Epoch 28/30\n",
            "1250/1250 [==============================] - 34s 27ms/step - loss: 0.0532 - accuracy: 0.9851 - val_loss: 2.3173 - val_accuracy: 0.7662\n",
            "Epoch 29/30\n",
            "1250/1250 [==============================] - 34s 27ms/step - loss: 0.0522 - accuracy: 0.9853 - val_loss: 2.2451 - val_accuracy: 0.7678\n",
            "Epoch 30/30\n",
            "1250/1250 [==============================] - 34s 27ms/step - loss: 0.0501 - accuracy: 0.9861 - val_loss: 2.2578 - val_accuracy: 0.7681\n"
          ],
          "name": "stdout"
        }
      ]
    },
    {
      "cell_type": "code",
      "metadata": {
        "colab": {
          "base_uri": "https://localhost:8080/",
          "height": 545
        },
        "id": "EtUXpG3hR4mj",
        "outputId": "9e0e92fe-175e-4bbb-c95f-59973b208098"
      },
      "source": [
        "acc = history5.history['accuracy']\n",
        "val_acc = history5.history['val_accuracy']\n",
        "loss = history5.history['loss']\n",
        "val_loss = history5.history['val_loss']\n",
        "\n",
        "epochs = range(len(acc))\n",
        "\n",
        "plt.plot(epochs, acc, 'bo', label='Training acc')\n",
        "plt.plot(epochs, val_acc, 'b', label='Validation acc')\n",
        "plt.title('Training and validation accuracy')\n",
        "plt.legend()\n",
        "plt.show()\n",
        "\n",
        "plt.plot(epochs, loss, 'bo', label='Training loss')\n",
        "plt.plot(epochs, val_loss, 'b', label='Validation loss')\n",
        "plt.title('Training and validation loss')\n",
        "plt.legend()\n",
        "plt.show()"
      ],
      "execution_count": null,
      "outputs": [
        {
          "output_type": "display_data",
          "data": {
            "image/png": "[encoded data removed]",
            "text/plain": [
              "<Figure size 432x288 with 1 Axes>"
            ]
          },
          "metadata": {
            "tags": [],
            "needs_background": "light"
          }
        },
        {
          "output_type": "display_data",
          "data": {
            "image/png": "[encoded data removed]",
            "text/plain": [
              "<Figure size 432x288 with 1 Axes>"
            ]
          },
          "metadata": {
            "tags": [],
            "needs_background": "light"
          }
        }
      ]
    },
    {
      "cell_type": "code",
      "metadata": {
        "id": "FDMBQSDMR7Jd",
        "colab": {
          "base_uri": "https://localhost:8080/"
        },
        "outputId": "3eb4a6d7-75a9-4579-d688-ef68f08f512a"
      },
      "source": [
        "score5 = BLEU_score(model5)\n",
        "print('BLEU score for model: {:.2f}'.format(score5))"
      ],
      "execution_count": null,
      "outputs": [
        {
          "output_type": "stream",
          "text": [
            "BLEU score for model: 0.65\n"
          ],
          "name": "stdout"
        }
      ]
    },
    {
      "cell_type": "code",
      "metadata": {
        "id": "ORSYxwosR93g",
        "colab": {
          "base_uri": "https://localhost:8080/"
        },
        "outputId": "e9d0bcaf-1d40-4b16-d5c8-d0a3b6551dea"
      },
      "source": [
        "visualize_translation(model5, 40)"
      ],
      "execution_count": null,
      "outputs": [
        {
          "output_type": "stream",
          "text": [
            "Target=[we have to be at work by nine], Prediction[we have to be at work by nine]\n",
            "Target=[its just your imagination], Prediction[its just your imagination]\n",
            "Target=[i dont want to see you here again], Prediction[i dont want to see you again]\n",
            "Target=[hes a doctor of good reputation], Prediction[hes a doctor of good reputation]\n",
            "Target=[it looks like mary is drunk again], Prediction[it think that alone alone again]\n",
            "Target=[tom also has plans to go there], Prediction[tom also has plans to go there]\n",
            "Target=[i did nothing during the holidays], Prediction[i didnt do anything on saturday]\n",
            "Target=[the plane arrived exactly at nine], Prediction[the plane came at at nine]\n",
            "Target=[you must think this is funny], Prediction[you must think this is funny]\n",
            "Target=[he claims that he is a painter], Prediction[he say that is not a]\n",
            "Target=[i need to get something for tom], Prediction[i need something need tom]\n",
            "Target=[one of the girls was left behind], Prediction[one of girls girls was left behind]\n",
            "Target=[whats your favorite number], Prediction[whats your favorite number]\n",
            "Target=[tom hasnt been here since monday], Prediction[tom hasnt been here monday]\n",
            "Target=[you may talk as much as you like], Prediction[you can do so as like]\n",
            "Target=[i met a canadian man named tom], Prediction[i met a canadian man named tom]\n",
            "Target=[tom doesnt really like you much], Prediction[tom doesnt really like you much]\n",
            "Target=[you were right after all], Prediction[you were right after all]\n",
            "Target=[are you sure you want that one], Prediction[are you sure you want that one]\n",
            "Target=[he wants to learn to swim], Prediction[he wants to learn to swim]\n",
            "Target=[i like this coat may i try it on], Prediction[i like this light i coat]\n",
            "Target=[i knew you were behind this], Prediction[i knew you were behind this]\n",
            "Target=[her garden is a work of art], Prediction[his garden is a work of art]\n",
            "Target=[dinner is probably ready by now], Prediction[may you already running this now]\n",
            "Target=[your screams frightened me], Prediction[your screams frightened me]\n",
            "Target=[she likes to dress up as a nurse], Prediction[she likes her walk her her]\n",
            "Target=[could you call me tonight please], Prediction[could you please tom please tonight]\n",
            "Target=[he was lying on the grass], Prediction[he was lying on the grass]\n",
            "Target=[mary is loyal to her country], Prediction[mary is loyal to her country]\n",
            "Target=[this is all i want to do], Prediction[this is all i want to do]\n",
            "Target=[ill take care of the horses], Prediction[i will go on the fair]\n",
            "Target=[that is out of the question], Prediction[its out of the question]\n",
            "Target=[ill get fired if they find out], Prediction[will you do if will be]\n",
            "Target=[this does not make me happy], Prediction[it makes makes me happy]\n",
            "Target=[i actually tried to do that once], Prediction[i will really do it once it]\n",
            "Target=[wet clothes stick to your skin], Prediction[most doll cling off the]\n",
            "Target=[tom has many things to do today], Prediction[tom has many things to do today]\n",
            "Target=[tom lived in japan for ten years], Prediction[tom lived hurt for ten years]\n",
            "Target=[he seems to have missed the point], Prediction[he refused like to think]\n",
            "Target=[the land had never been ploughed], Prediction[the furniture never been long]\n"
          ],
          "name": "stdout"
        }
      ]
    },
    {
      "cell_type": "markdown",
      "metadata": {
        "id": "3I1me_oMN51l"
      },
      "source": [
        "## Compare / Contrast models "
      ]
    },
    {
      "cell_type": "code",
      "metadata": {
        "id": "dJo1VPDcN9g7",
        "colab": {
          "base_uri": "https://localhost:8080/"
        },
        "outputId": "fe67b35f-e4ea-42c4-b501-b33065bbf098"
      },
      "source": [
        "# Print acc / val_acc / bleu / translations\n",
        "models = [model1, model2, model3, model4, model5]\n",
        "scores = [score1, score2, score3, score4, score5]\n",
        "histories = [history1, history2, history3, history4, history5]\n",
        "\n",
        "i=0\n",
        "for score, history, model in zip(scores, histories, models):\n",
        "  if (i==0):\n",
        "    print('-----------Results for RNN Model-----------')\n",
        "  elif (i==1):\n",
        "    print('-----------Results for LSTM Model-----------')\n",
        "  elif (i==2):\n",
        "    print('-----------Results for GRU Model-----------')\n",
        "  elif (i==3):\n",
        "    print('-----------Results for Bahdanau/Additive Attention Model-----------')\n",
        "  elif (i==4):\n",
        "    print('-----------Results for Luong/Multiplicative Attention Model-----------')\n",
        "  print('BLEU Score: {:.2f}'.format(score))\n",
        "  print('Accuracy: {:.2f}'.format(history.history['accuracy'][-1]))\n",
        "  print('Validation Accuracy: {:.2f}'.format(history.history['val_accuracy'][-1]))\n",
        "  print('\\nPredictions:')\n",
        "  visualize_translation(model, 20)\n",
        "  print('\\n' * 3)\n",
        "  i = i + 1"
      ],
      "execution_count": null,
      "outputs": [
        {
          "output_type": "stream",
          "text": [
            "-----------Results for RNN Model-----------\n",
            "BLEU Score: 0.28\n",
            "Accuracy: 0.62\n",
            "Validation Accuracy: 0.50\n",
            "\n",
            "Predictions:\n",
            "Target=[we have to be at work by nine], Prediction[i have to to to by book nine]\n",
            "Target=[its just your imagination], Prediction[its only dangerous]\n",
            "Target=[i dont want to see you here again], Prediction[i dont want to go to]\n",
            "Target=[hes a doctor of good reputation], Prediction[its a same year untouched]\n",
            "Target=[it looks like mary is drunk again], Prediction[i not to to to]\n",
            "Target=[tom also has plans to go there], Prediction[tom seems to be be]\n",
            "Target=[i did nothing during the holidays], Prediction[i dont you your of]\n",
            "Target=[the plane arrived exactly at nine], Prediction[the rain exploded five days]\n",
            "Target=[you must think this is funny], Prediction[what dont of if its hot]\n",
            "Target=[he claims that he is a painter], Prediction[i think its to neat good]\n",
            "Target=[i need to get something for tom], Prediction[i i to to to]\n",
            "Target=[one of the girls was left behind], Prediction[james madison the than trees]\n",
            "Target=[whats your favorite number], Prediction[whats your favorite web]\n",
            "Target=[tom hasnt been here since monday], Prediction[tom is bread good up tennis]\n",
            "Target=[you may talk as much as you like], Prediction[what does do you mean]\n",
            "Target=[i met a canadian man named tom], Prediction[i am to to to hour]\n",
            "Target=[tom doesnt really like you much], Prediction[its is too to to]\n",
            "Target=[you were right after all], Prediction[you are your the]\n",
            "Target=[are you sure you want that one], Prediction[i dont care what i i do]\n",
            "Target=[he wants to learn to swim], Prediction[he wants to go to america]\n",
            "\n",
            "\n",
            "\n",
            "\n",
            "-----------Results for LSTM Model-----------\n",
            "BLEU Score: 0.45\n",
            "Accuracy: 0.86\n",
            "Validation Accuracy: 0.65\n",
            "\n",
            "Predictions:\n",
            "Target=[we have to be at work by nine], Prediction[we have to get home home nine]\n",
            "Target=[its just your imagination], Prediction[its only your your]\n",
            "Target=[i dont want to see you here again], Prediction[i dont want to see you again]\n",
            "Target=[hes a doctor of good reputation], Prediction[its is doctor a strange]\n",
            "Target=[it looks like mary is drunk again], Prediction[i said tom was in]\n",
            "Target=[tom also has plans to go there], Prediction[tom has to go to go there]\n",
            "Target=[i did nothing during the holidays], Prediction[i didnt sleep tom on]\n",
            "Target=[the plane arrived exactly at nine], Prediction[the plane came closed at ten]\n",
            "Target=[you must think this is funny], Prediction[you must think tom is funny]\n",
            "Target=[he claims that he is a painter], Prediction[speaking is the is is]\n",
            "Target=[i need to get something for tom], Prediction[i need to ask tom tom]\n",
            "Target=[one of the girls was left behind], Prediction[a of were grow at]\n",
            "Target=[whats your favorite number], Prediction[whats your favorite pastime]\n",
            "Target=[tom hasnt been here since monday], Prediction[tom didnt wait on monday monday]\n",
            "Target=[you may talk as much as you like], Prediction[i can get as you want want]\n",
            "Target=[i met a canadian man named tom], Prediction[i met a a fake named]\n",
            "Target=[tom doesnt really like you much], Prediction[tom doesnt like like for angry]\n",
            "Target=[you were right after all], Prediction[we were right after all]\n",
            "Target=[are you sure you want that one], Prediction[are you sure you to that that]\n",
            "Target=[he wants to learn to swim], Prediction[he wants to learn to swim]\n",
            "\n",
            "\n",
            "\n",
            "\n",
            "-----------Results for GRU Model-----------\n",
            "BLEU Score: 0.55\n",
            "Accuracy: 0.91\n",
            "Validation Accuracy: 0.72\n",
            "\n",
            "Predictions:\n",
            "Target=[we have to be at work by nine], Prediction[we have to get at at at nine]\n",
            "Target=[its just your imagination], Prediction[its only your imagination]\n",
            "Target=[i dont want to see you here again], Prediction[i dont want to see you early]\n",
            "Target=[hes a doctor of good reputation], Prediction[he the doctor of good reputation reputation]\n",
            "Target=[it looks like mary is drunk again], Prediction[this looks that is understand over]\n",
            "Target=[tom also has plans to go there], Prediction[tom has has go to go there]\n",
            "Target=[i did nothing during the holidays], Prediction[i didnt let it on]\n",
            "Target=[the plane arrived exactly at nine], Prediction[the plane came at at nine]\n",
            "Target=[you must think this is funny], Prediction[you must think this is funny]\n",
            "Target=[he claims that he is a painter], Prediction[he said he to a a]\n",
            "Target=[i need to get something for tom], Prediction[i need something to tom tom]\n",
            "Target=[one of the girls was left behind], Prediction[one leave the girls was was behind]\n",
            "Target=[whats your favorite number], Prediction[whats your favorite number]\n",
            "Target=[tom hasnt been here since monday], Prediction[tom hasnt been here monday]\n",
            "Target=[you may talk as much as you like], Prediction[you can swim as as as was]\n",
            "Target=[i met a canadian man named tom], Prediction[i met a canadian man tom tom]\n",
            "Target=[tom doesnt really like you much], Prediction[tom doesnt do you very much]\n",
            "Target=[you were right after all], Prediction[you were right after all all]\n",
            "Target=[are you sure you want that one], Prediction[are you still that want want that that]\n",
            "Target=[he wants to learn to swim], Prediction[he wants to learn to swim swim]\n",
            "\n",
            "\n",
            "\n",
            "\n",
            "-----------Results for Bahdanau/Additive Attention Model-----------\n",
            "BLEU Score: 0.65\n",
            "Accuracy: 0.98\n",
            "Validation Accuracy: 0.76\n",
            "\n",
            "Predictions:\n",
            "Target=[we have to be at work by nine], Prediction[we have to be at work by nine]\n",
            "Target=[its just your imagination], Prediction[its only your imagination]\n",
            "Target=[i dont want to see you here again], Prediction[i dont want to see you again]\n",
            "Target=[hes a doctor of good reputation], Prediction[hes a doctor of good reputation]\n",
            "Target=[it looks like mary is drunk again], Prediction[it seems that shes is again]\n",
            "Target=[tom also has plans to go there], Prediction[tom also has plans to go there go]\n",
            "Target=[i did nothing during the holidays], Prediction[i didnt grow in on face]\n",
            "Target=[the plane arrived exactly at nine], Prediction[the plane hid exactly at]\n",
            "Target=[you must think this is funny], Prediction[you must think this is funny]\n",
            "Target=[he claims that he is a painter], Prediction[he claims that he is a]\n",
            "Target=[i need to get something for tom], Prediction[i need to hear tom something]\n",
            "Target=[one of the girls was left behind], Prediction[one of the girls was left behind]\n",
            "Target=[whats your favorite number], Prediction[whats your favorite number]\n",
            "Target=[tom hasnt been here since monday], Prediction[tom hasnt come here on monday]\n",
            "Target=[you may talk as much as you like], Prediction[you i do you hard as you]\n",
            "Target=[i met a canadian man named tom], Prediction[i met a canadian man named tom]\n",
            "Target=[tom doesnt really like you much], Prediction[tom doesnt really like you much]\n",
            "Target=[you were right after all], Prediction[you were right after all]\n",
            "Target=[are you sure you want that one], Prediction[are you sure you want that want]\n",
            "Target=[he wants to learn to swim], Prediction[he wants to learn to swim]\n",
            "\n",
            "\n",
            "\n",
            "\n",
            "-----------Results for Luong/Multiplicative Attention Model-----------\n",
            "BLEU Score: 0.65\n",
            "Accuracy: 0.98\n",
            "Validation Accuracy: 0.77\n",
            "\n",
            "Predictions:\n",
            "Target=[we have to be at work by nine], Prediction[we have to be at work by nine]\n",
            "Target=[its just your imagination], Prediction[its just your imagination]\n",
            "Target=[i dont want to see you here again], Prediction[i dont want to see you again]\n",
            "Target=[hes a doctor of good reputation], Prediction[hes a doctor of good reputation]\n",
            "Target=[it looks like mary is drunk again], Prediction[it think that alone alone again]\n",
            "Target=[tom also has plans to go there], Prediction[tom also has plans to go there]\n",
            "Target=[i did nothing during the holidays], Prediction[i didnt do anything on saturday]\n",
            "Target=[the plane arrived exactly at nine], Prediction[the plane came at at nine]\n",
            "Target=[you must think this is funny], Prediction[you must think this is funny]\n",
            "Target=[he claims that he is a painter], Prediction[he say that is not a]\n",
            "Target=[i need to get something for tom], Prediction[i need something need tom]\n",
            "Target=[one of the girls was left behind], Prediction[one of girls girls was left behind]\n",
            "Target=[whats your favorite number], Prediction[whats your favorite number]\n",
            "Target=[tom hasnt been here since monday], Prediction[tom hasnt been here monday]\n",
            "Target=[you may talk as much as you like], Prediction[you can do so as like]\n",
            "Target=[i met a canadian man named tom], Prediction[i met a canadian man named tom]\n",
            "Target=[tom doesnt really like you much], Prediction[tom doesnt really like you much]\n",
            "Target=[you were right after all], Prediction[you were right after all]\n",
            "Target=[are you sure you want that one], Prediction[are you sure you want that one]\n",
            "Target=[he wants to learn to swim], Prediction[he wants to learn to swim]\n",
            "\n",
            "\n",
            "\n",
            "\n"
          ],
          "name": "stdout"
        }
      ]
    },
    {
      "cell_type": "markdown",
      "metadata": {
        "id": "rFgiyPrLN_Tv"
      },
      "source": [
        "## Conclusion"
      ]
    },
    {
      "cell_type": "markdown",
      "metadata": {
        "id": "E2AXUXOGu9hi"
      },
      "source": [
        "Looking into all the results of five models, the Multiplicative Attention Model is better in terms of validation accuracy, blue score, and actual prediction. RNN is the worst because the gradient for the RNN model becomes very hard when the length of the sentences gets increased. RNN faces gradient vanishing problem with the lengthy sentences. We observed during optimizing the models that even RNN, LSTM, and GRU were doing pretty well with just a few words translation, but LSTM and GRU always outperformed RNN in Neural Machine Translation. The highest blue score we got for the Multiplicative Attention Model was 0.71, but it was difficult to produce this as our final score because every time we ran the notebook the data would shuffle. "
      ]
    }
  ]
}